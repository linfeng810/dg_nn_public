{
 "cells": [
  {
   "cell_type": "markdown",
   "metadata": {},
   "source": [
    "# Read gmsh file"
   ]
  },
  {
   "cell_type": "code",
   "execution_count": 223,
   "metadata": {},
   "outputs": [],
   "source": [
    "# import \n",
    "import toughio \n",
    "import numpy as np\n",
    "import meshio\n",
    "import torch"
   ]
  },
  {
   "cell_type": "code",
   "execution_count": 224,
   "metadata": {},
   "outputs": [
    {
     "name": "stdout",
     "output_type": "stream",
     "text": [
      "\n"
     ]
    }
   ],
   "source": [
    "filename='./square.msh'\n",
    "mesh = toughio.read_mesh(filename)"
   ]
  },
  {
   "cell_type": "code",
   "execution_count": 225,
   "metadata": {},
   "outputs": [
    {
     "name": "stdout",
     "output_type": "stream",
     "text": [
      "\n"
     ]
    }
   ],
   "source": [
    "mesh1=meshio.read(filename)"
   ]
  },
  {
   "cell_type": "code",
   "execution_count": 226,
   "metadata": {},
   "outputs": [
    {
     "data": {
      "text/plain": [
       "meshio._mesh.Mesh"
      ]
     },
     "execution_count": 226,
     "metadata": {},
     "output_type": "execute_result"
    }
   ],
   "source": [
    "mesh1.cells\n",
    "type(mesh1)"
   ]
  },
  {
   "cell_type": "code",
   "execution_count": 227,
   "metadata": {},
   "outputs": [
    {
     "name": "stdout",
     "output_type": "stream",
     "text": [
      "[[ 4  0  9]\n",
      " [ 0  6  9]\n",
      " [ 1  5 10]\n",
      " [ 6  1 10]\n",
      " [ 5  2 12]\n",
      " [ 2  7 12]\n",
      " [ 3  4 11]\n",
      " [ 7  3 11]\n",
      " [ 4  9 11]\n",
      " [ 5  8 10]\n",
      " [ 8  5 12]\n",
      " [ 6  8  9]\n",
      " [ 8  6 10]\n",
      " [ 8  7 11]\n",
      " [ 7  8 12]\n",
      " [ 9  8 11]]\n"
     ]
    },
    {
     "data": {
      "text/plain": [
       "array([[0.  , 0.  , 0.  ],\n",
       "       [0.  , 1.  , 0.  ],\n",
       "       [1.  , 1.  , 0.  ],\n",
       "       [1.  , 0.  , 0.  ],\n",
       "       [0.5 , 0.  , 0.  ],\n",
       "       [0.5 , 1.  , 0.  ],\n",
       "       [0.  , 0.5 , 0.  ],\n",
       "       [1.  , 0.5 , 0.  ],\n",
       "       [0.5 , 0.5 , 0.  ],\n",
       "       [0.25, 0.25, 0.  ],\n",
       "       [0.25, 0.75, 0.  ],\n",
       "       [0.75, 0.25, 0.  ],\n",
       "       [0.75, 0.75, 0.  ]])"
      ]
     },
     "execution_count": 227,
     "metadata": {},
     "output_type": "execute_result"
    }
   ],
   "source": [
    "# mesh info\n",
    "nele = mesh.n_cells\n",
    "cubic = True\n",
    "if (cubic) :\n",
    "    nloc = 10 \n",
    "    ngi = 13\n",
    "nonods = nloc*nele \n",
    "ndim = 2\n",
    "ndglno=np.arange(0,nonods)\n",
    "print(mesh.cells[0][1]) # cell node list\n",
    "mesh.points"
   ]
  },
  {
   "cell_type": "code",
   "execution_count": 228,
   "metadata": {},
   "outputs": [],
   "source": [
    "\n",
    "# create the adjacency matrix to store connections\n",
    "adjacency_matrix = torch.eye(nonods)\n",
    "\n",
    "# populate the connections with a one \n",
    "for element in mesh.cells[0][1]:\n",
    "    for i in element:\n",
    "        for j in element:\n",
    "            if adjacency_matrix[i][j] != 1:\n",
    "                adjacency_matrix[i][j] = 1"
   ]
  },
  {
   "cell_type": "code",
   "execution_count": 229,
   "metadata": {},
   "outputs": [],
   "source": [
    "# create faces\n",
    "faces=[]\n",
    "\n",
    "for ele in range(nele):\n",
    "    element = mesh.cells[0][1][ele]\n",
    "    for iloc in range(3):\n",
    "        faces.append([element[iloc],element[(iloc+1)%3]])\n"
   ]
  },
  {
   "cell_type": "code",
   "execution_count": 230,
   "metadata": {},
   "outputs": [
    {
     "name": "stdout",
     "output_type": "stream",
     "text": [
      "[9, 0] | [0, 9]\n",
      "[4, 9] | [9, 4]\n",
      "[9, 6] | [6, 9]\n",
      "[10, 5] | [5, 10]\n",
      "[1, 10] | [10, 1]\n",
      "[6, 10] | [10, 6]\n",
      "[12, 2] | [2, 12]\n",
      "[5, 12] | [12, 5]\n",
      "[12, 7] | [7, 12]\n",
      "[11, 4] | [4, 11]\n",
      "[3, 11] | [11, 3]\n",
      "[7, 11] | [11, 7]\n",
      "[11, 9] | [9, 11]\n",
      "[8, 5] | [5, 8]\n",
      "[10, 8] | [8, 10]\n",
      "[8, 12] | [12, 8]\n",
      "[8, 6] | [6, 8]\n",
      "[9, 8] | [8, 9]\n",
      "[7, 8] | [8, 7]\n",
      "[8, 11] | [11, 8]\n"
     ]
    },
    {
     "data": {
      "text/plain": [
       "array([ nan,  -5., -24.,  nan, -35.,  -1.,  nan, -29., -10.,  nan,  -8.,\n",
       "       -37.,  nan, -17., -31.,  nan, -44., -13.,  nan, -26., -22.,  nan,\n",
       "       -20., -40.,  -2., -47., -19., -30., -38.,  -7., -27., -14., -43.,\n",
       "       -36., -45.,  -4., -33., -11., -28., -42., -23., -46., -39., -32.,\n",
       "       -16., -34., -41., -25.])"
      ]
     },
     "execution_count": 230,
     "metadata": {},
     "output_type": "execute_result"
    }
   ],
   "source": [
    "# neighbouring elements\n",
    "nbf=np.empty(len(faces))\n",
    "nbf[:]=np.nan\n",
    "color=np.zeros(len(faces))\n",
    "for iface in range(len(faces)):\n",
    "    if color[iface]==1 :\n",
    "        continue \n",
    "    for jface in range(iface+1,len(faces)):\n",
    "        if (color[jface]==1):\n",
    "            continue \n",
    "        elif (set(faces[jface])==set(faces[iface])):\n",
    "            print(faces[jface],'|',faces[iface])\n",
    "            if faces[jface][0]==faces[iface][0]:\n",
    "                nbf[iface]=jface \n",
    "                nbf[jface]=iface\n",
    "            else:\n",
    "                nbf[iface]=-jface \n",
    "                nbf[jface]=-iface\n",
    "            color[iface]=1\n",
    "            color[jface]=1\n",
    "            continue\n",
    "nbf"
   ]
  },
  {
   "cell_type": "code",
   "execution_count": 231,
   "metadata": {},
   "outputs": [
    {
     "data": {
      "text/plain": [
       "array([ nan,  -1.,  -8.,  nan, -11.,  -0.,  nan,  -9.,  -3.,  nan,  -2.,\n",
       "       -12.,  nan,  -5., -10.,  nan, -14.,  -4.,  nan,  -8.,  -7.,  nan,\n",
       "        -6., -13.,  -0., -15.,  -6., -10., -12.,  -2.,  -9.,  -4., -14.,\n",
       "       -12., -15.,  -1., -11.,  -3.,  -9., -14.,  -7., -15., -13., -10.,\n",
       "        -5., -11., -13.,  -8.])"
      ]
     },
     "execution_count": 231,
     "metadata": {},
     "output_type": "execute_result"
    }
   ],
   "source": [
    "# find neighbouring elements associated with each face\n",
    "# via neighbouring faces\n",
    "# and store in nbele\n",
    "nbele=np.empty(len(faces))\n",
    "nbele[:]=np.nan\n",
    "for iface in range(len(nbf)):\n",
    "    nbele[iface] = np.sign(nbf[iface])*(np.abs(nbf[iface])//3)\n",
    "nbele"
   ]
  },
  {
   "cell_type": "code",
   "execution_count": 232,
   "metadata": {},
   "outputs": [],
   "source": [
    "# generate cubic nodes\n",
    "x_all = []\n",
    "for ele in range(16):\n",
    "    # vertex nodes global index\n",
    "    idx = mesh.cells[0][1][ele]\n",
    "    # vertex nodes coordinate \n",
    "    x_loc=[]\n",
    "    for id in idx:\n",
    "        x_loc.append(mesh.points[id])\n",
    "        # print(x_loc)\n",
    "    # ! a reference cubic element looks like this:\n",
    "    # !  y\n",
    "    # !  | \n",
    "    # !  2\n",
    "    # !  | \\\n",
    "    # !  6  5\n",
    "    # !  |   \\\n",
    "    # !  7 10 4\n",
    "    # !  |     \\\n",
    "    # !  3-8-9--1--x\n",
    "    # nodes 1-3\n",
    "    x_all.append([x_loc[0][0], x_loc[0][1]])\n",
    "    x_all.append([x_loc[1][0], x_loc[1][1]])\n",
    "    x_all.append([x_loc[2][0], x_loc[2][1]])\n",
    "    # nodes 4,5\n",
    "    x_all.append([x_loc[0][0]*2./3.+x_loc[1][0]*1./3., x_loc[0][1]*2./3.+x_loc[1][1]*1./3.])\n",
    "    x_all.append([x_loc[0][0]*1./3.+x_loc[1][0]*2./3., x_loc[0][1]*1./3.+x_loc[1][1]*2./3.])\n",
    "    # nodes 6,7\n",
    "    x_all.append([x_loc[1][0]*2./3.+x_loc[2][0]*1./3., x_loc[1][1]*2./3.+x_loc[2][1]*1./3.])\n",
    "    x_all.append([x_loc[1][0]*1./3.+x_loc[2][0]*2./3., x_loc[1][1]*1./3.+x_loc[2][1]*2./3.])\n",
    "    # nodes 8,9\n",
    "    x_all.append([x_loc[2][0]*2./3.+x_loc[0][0]*1./3., x_loc[2][1]*2./3.+x_loc[0][1]*1./3.])\n",
    "    x_all.append([x_loc[2][0]*1./3.+x_loc[0][0]*2./3., x_loc[2][1]*1./3.+x_loc[0][1]*2./3.])\n",
    "    # node 10\n",
    "    x_all.append([(x_loc[0][0]+x_loc[1][0]+x_loc[2][0])/3.,(x_loc[0][1]+x_loc[1][1]+x_loc[2][1])/3.])\n",
    "# x_all"
   ]
  },
  {
   "cell_type": "code",
   "execution_count": 233,
   "metadata": {},
   "outputs": [
    {
     "name": "stdout",
     "output_type": "stream",
     "text": [
      "[0 1 2 3 4 5 6 7 8 9]\n",
      "[10 11 12 13 14 15 16 17 18 19]\n",
      "[20 21 22 23 24 25 26 27 28 29]\n",
      "[30 31 32 33 34 35 36 37 38 39]\n",
      "[40 41 42 43 44 45 46 47 48 49]\n",
      "[50 51 52 53 54 55 56 57 58 59]\n",
      "[60 61 62 63 64 65 66 67 68 69]\n",
      "[70 71 72 73 74 75 76 77 78 79]\n",
      "[80 81 82 83 84 85 86 87 88 89]\n",
      "[90 91 92 93 94 95 96 97 98 99]\n",
      "[100 101 102 103 104 105 106 107 108 109]\n",
      "[110 111 112 113 114 115 116 117 118 119]\n",
      "[120 121 122 123 124 125 126 127 128 129]\n",
      "[130 131 132 133 134 135 136 137 138 139]\n",
      "[140 141 142 143 144 145 146 147 148 149]\n",
      "[150 151 152 153 154 155 156 157 158 159]\n"
     ]
    },
    {
     "name": "stderr",
     "output_type": "stream",
     "text": [
      "/tmp/ipykernel_1728604/1296823504.py:13: UserWarning: Matplotlib is currently using module://matplotlib_inline.backend_inline, which is a non-GUI backend, so cannot show the figure.\n",
      "  fig.show()\n"
     ]
    },
    {
     "data": {
      "image/png": "[encoded data removed]",
      "text/plain": [
       "<Figure size 576x576 with 16 Axes>"
      ]
     },
     "metadata": {
      "needs_background": "light"
     },
     "output_type": "display_data"
    }
   ],
   "source": [
    "import matplotlib.pyplot as plt \n",
    "x_all=np.asarray(x_all)\n",
    "fig,ax=plt.subplots(4,4, figsize=(8,8))\n",
    "fig.tight_layout()\n",
    "ax=ax.flatten()\n",
    "for ele in range(nele):\n",
    "    toplt = np.arange((ele)*nloc,(ele)*nloc+nloc)\n",
    "    print((toplt))\n",
    "    ax[ele].scatter(x_all[toplt,0],x_all[toplt,1],alpha=0.8)\n",
    "    ax[ele].title.set_text('ele no.'+str(ele))\n",
    "    ax[ele].set_xlim([0,1])\n",
    "    ax[ele].set_ylim([0,1])\n",
    "fig.show()"
   ]
  },
  {
   "cell_type": "code",
   "execution_count": 243,
   "metadata": {},
   "outputs": [],
   "source": [
    "def face_iloc(iface):\n",
    "    # return local nodes number on a face\n",
    "    match iface:\n",
    "        case 0:\n",
    "            return [0,3,4,1]\n",
    "        case 1:\n",
    "            return [1,5,6,2]\n",
    "        case 2:\n",
    "            return [0,8,7,2]\n",
    "        case _:\n",
    "            return []\n",
    "def face_iloc2(iface):\n",
    "    # return local nodes number on the other side of a face\n",
    "    # in reverse order \n",
    "    iloc_list=face_iloc(iface)\n",
    "    iloc_list.reverse()\n",
    "    return iloc_list"
   ]
  },
  {
   "cell_type": "code",
   "execution_count": 240,
   "metadata": {},
   "outputs": [
    {
     "name": "stdout",
     "output_type": "stream",
     "text": [
      "10 9 0 0 30 27\n",
      "11 12 0 0 33 36\n",
      "12 11 0 0 36 33\n",
      "13 14 0 0 39 42\n",
      "14 13 0 0 42 39\n",
      "15 11 0 1 45 34\n"
     ]
    }
   ],
   "source": [
    "# example\n",
    "# we're in ele1, assembling face integral, \n",
    "# where are S_ij and S_bc_ij located?\n",
    "\n",
    "# let's omit the relative direction of opposite faces \n",
    "# (since gmsh automatically align all faces in opposite \n",
    "# direction)\n",
    "for ele in range(10,16):\n",
    "    # face 0\n",
    "    iface = 0\n",
    "    glbface = iface+ele*3\n",
    "    ele2 = int(abs(nbele[glbface]))\n",
    "    glbface2 = int(abs(nbf[glbface]))\n",
    "    iface2 = glbface2%3\n",
    "\n",
    "    # face 1\n",
    "    # face 2\n",
    "\n"
   ]
  }
 ],
 "metadata": {
  "kernelspec": {
   "display_name": "Python 3.10.4 ('ml_cuda')",
   "language": "python",
   "name": "python3"
  },
  "language_info": {
   "codemirror_mode": {
    "name": "ipython",
    "version": 3
   },
   "file_extension": ".py",
   "mimetype": "text/x-python",
   "name": "python",
   "nbconvert_exporter": "python",
   "pygments_lexer": "ipython3",
   "version": "3.10.4"
  },
  "orig_nbformat": 4,
  "vscode": {
   "interpreter": {
    "hash": "e8b2f788fcf12e61bf67f977dd387ad279188af1579fc44a4189e9ff13b51701"
   }
  }
 },
 "nbformat": 4,
 "nbformat_minor": 2
}
