{
 "cells": [
  {
   "cell_type": "markdown",
   "id": "15560b9e",
   "metadata": {},
   "source": [
    "### Uncomment if running in Colab"
   ]
  },
  {
   "cell_type": "code",
   "execution_count": 1,
   "id": "090bf9d3",
   "metadata": {
    "colab": {
     "base_uri": "https://localhost:8080/"
    },
    "executionInfo": {
     "elapsed": 3622,
     "status": "ok",
     "timestamp": 1662430937073,
     "user": {
      "displayName": "Chukwume Ijeh",
      "userId": "15775749881944981513"
     },
     "user_tz": -60
    },
    "id": "090bf9d3",
    "outputId": "2b92b4d1-27ca-47c6-e272-83c4c642c5d8"
   },
   "outputs": [],
   "source": [
    "# !pip install toughio"
   ]
  },
  {
   "cell_type": "code",
   "execution_count": 2,
   "id": "wkD-3QPWqPJY",
   "metadata": {
    "colab": {
     "base_uri": "https://localhost:8080/"
    },
    "executionInfo": {
     "elapsed": 8921,
     "status": "ok",
     "timestamp": 1662430945990,
     "user": {
      "displayName": "Chukwume Ijeh",
      "userId": "15775749881944981513"
     },
     "user_tz": -60
    },
    "id": "wkD-3QPWqPJY",
    "outputId": "33d5edcb-7184-4e6a-d0b8-a55bc86c1cf0"
   },
   "outputs": [],
   "source": [
    "# setup enviornment for interactive plotting\n",
    "# !apt-get install -qq xvfb\n",
    "# !pip install pyvista panel -q"
   ]
  },
  {
   "cell_type": "code",
   "execution_count": 3,
   "id": "TMgnGph-nM7h",
   "metadata": {
    "id": "TMgnGph-nM7h"
   },
   "outputs": [],
   "source": [
    "# import os\n",
    "# os.system('/usr/bin/Xvfb :99 -screen 0 1024x768x24 &')\n",
    "# os.environ['DISPLAY'] = ':99'"
   ]
  },
  {
   "cell_type": "code",
   "execution_count": 4,
   "id": "MTLDtaVcnNov",
   "metadata": {
    "colab": {
     "base_uri": "https://localhost:8080/",
     "height": 17
    },
    "executionInfo": {
     "elapsed": 2088,
     "status": "ok",
     "timestamp": 1662431072016,
     "user": {
      "displayName": "Chukwume Ijeh",
      "userId": "15775749881944981513"
     },
     "user_tz": -60
    },
    "id": "MTLDtaVcnNov",
    "outputId": "93a76e19-925c-43fe-91ea-a1f142761999"
   },
   "outputs": [],
   "source": [
    "# import panel as pn\n",
    "# pn.extension('vtk')"
   ]
  },
  {
   "cell_type": "code",
   "execution_count": 5,
   "id": "c4C1VV1tkh2U",
   "metadata": {
    "colab": {
     "base_uri": "https://localhost:8080/"
    },
    "executionInfo": {
     "elapsed": 3207,
     "status": "ok",
     "timestamp": 1662430949192,
     "user": {
      "displayName": "Chukwume Ijeh",
      "userId": "15775749881944981513"
     },
     "user_tz": -60
    },
    "id": "c4C1VV1tkh2U",
    "outputId": "27d2bfd1-9b16-4e9c-b0da-303d7e764e84"
   },
   "outputs": [],
   "source": [
    "# from google.colab import drive\n",
    "# drive.mount('/content/drive')"
   ]
  },
  {
   "cell_type": "code",
   "execution_count": 6,
   "id": "fiQ_EBirk4E3",
   "metadata": {
    "colab": {
     "base_uri": "https://localhost:8080/"
    },
    "executionInfo": {
     "elapsed": 21937,
     "status": "ok",
     "timestamp": 1662430971124,
     "user": {
      "displayName": "Chukwume Ijeh",
      "userId": "15775749881944981513"
     },
     "user_tz": -60
    },
    "id": "fiQ_EBirk4E3",
    "outputId": "29e8a9a1-da48-4ae4-bba4-fcf45b4f8878"
   },
   "outputs": [],
   "source": [
    "# import sys\n",
    "# !{sys.executable} -m numpy.f2py --quiet -c '/content/drive/MyDrive/IRP/shape_functions (31).f90' -m shape_functions  --fcompiler=gnu95 --f90flags=-O3\n",
    "# !{sys.executable} -m numpy.f2py --quiet -c '/content/drive/MyDrive/IRP/space_filling_decomp_new.f90' -m space_filling_curves  --fcompiler=gnu95 --f90flags=-O3"
   ]
  },
  {
   "cell_type": "code",
   "execution_count": 7,
   "id": "d915ef42",
   "metadata": {
    "id": "d915ef42"
   },
   "outputs": [
    {
     "name": "stdout",
     "output_type": "stream",
     "text": [
      "\u001b[31mWARN: Could not locate executable armflang\u001b[0m\r\n"
     ]
    }
   ],
   "source": [
    "#!python3 -m numpy.f2py -c --quiet 'shape_functions (31).f90' -m shape_functions"
   ]
  },
  {
   "cell_type": "code",
   "execution_count": 8,
   "id": "8b60e04c",
   "metadata": {
    "colab": {
     "base_uri": "https://localhost:8080/"
    },
    "executionInfo": {
     "elapsed": 947,
     "status": "ok",
     "timestamp": 1662430972069,
     "user": {
      "displayName": "Chukwume Ijeh",
      "userId": "15775749881944981513"
     },
     "user_tz": -60
    },
    "id": "8b60e04c",
    "outputId": "3e83fa4f-1bb8-484c-a198-b3d0e302e10a"
   },
   "outputs": [
    {
     "name": "stdout",
     "output_type": "stream",
     "text": [
      "No GPU available!\n"
     ]
    }
   ],
   "source": [
    "# Regular libraries\n",
    "import math\n",
    "import numpy as np\n",
    "import copy\n",
    "import time\n",
    "import sys\n",
    "\n",
    "# AI libraries \n",
    "import torch\n",
    "import torch.nn as nn\n",
    "import torch.nn.functional as F\n",
    "\n",
    "# FEM and SFC libraries\n",
    "import shape_functions as sf\n",
    "import space_filling_curves as sfc\n",
    "\n",
    "# Mesh libraries\n",
    "import pyvista\n",
    "import toughio\n",
    "\n",
    "# To plot pretty figures\n",
    "%matplotlib inline\n",
    "import matplotlib as mpl\n",
    "import matplotlib.pyplot as plt\n",
    "mpl.rc('axes', labelsize=14)\n",
    "mpl.rc('xtick', labelsize=14)\n",
    "mpl.rc('ytick', labelsize=14)\n",
    "\n",
    "# check if running on gpu\n",
    "device = 'cpu'\n",
    "if torch.cuda.device_count() > 0 and torch.cuda.is_available():\n",
    "    print(\"Cuda installed! Running on GPU!\")\n",
    "    device = 'cuda'\n",
    "else:\n",
    "    print(\"No GPU available!\")"
   ]
  },
  {
   "cell_type": "code",
   "execution_count": 9,
   "id": "4bc938ca",
   "metadata": {
    "id": "4bc938ca"
   },
   "outputs": [],
   "source": [
    "np.set_printoptions(threshold=sys.maxsize)\n",
    "np.set_printoptions(precision=8)"
   ]
  },
  {
   "cell_type": "markdown",
   "id": "8ae8bc71",
   "metadata": {
    "id": "8ae8bc71"
   },
   "source": [
    "# Initialize Mesh"
   ]
  },
  {
   "cell_type": "code",
   "execution_count": 10,
   "id": "abae1daf",
   "metadata": {
    "id": "abae1daf"
   },
   "outputs": [],
   "source": [
    "nx, ny = 32,32"
   ]
  },
  {
   "cell_type": "code",
   "execution_count": 11,
   "id": "80d3d96f",
   "metadata": {
    "id": "80d3d96f"
   },
   "outputs": [],
   "source": [
    "dx = [1]*(nx-1)\n",
    "dy = [1]*(ny-1)\n",
    "mesh = toughio.meshmaker.structured_grid(dx, dy, origin=(0,0))"
   ]
  },
  {
   "cell_type": "markdown",
   "id": "2c6b4f48",
   "metadata": {
    "id": "2c6b4f48"
   },
   "source": [
    "# FEM discretization using shape_functions module"
   ]
  },
  {
   "cell_type": "code",
   "execution_count": 12,
   "id": "c8c1862f",
   "metadata": {
    "id": "c8c1862f"
   },
   "outputs": [],
   "source": [
    "# Rearrange so it would work in the shape_functions module.\n",
    "# Basically, put the last node in second position.\n",
    "temp = copy.deepcopy(mesh.cells[0][1][:,-1]) \n",
    "mesh.cells[0][1][:,-1] = mesh.cells[0][1][:,2]\n",
    "mesh.cells[0][1][:,2] = mesh.cells[0][1][:,1]\n",
    "mesh.cells[0][1][:,1] = temp"
   ]
  },
  {
   "cell_type": "code",
   "execution_count": 13,
   "id": "d0580e92",
   "metadata": {
    "id": "d0580e92"
   },
   "outputs": [],
   "source": [
    "nonods = mesh.n_points\n",
    "u = np.array([[0]*nonods, [0]*nonods]).astype(float)\n",
    "k = np.array([1] * nonods).astype(float)\n",
    "sig = np.array([0] * nonods).astype(float)\n",
    "s = np.array([0] * nonods).astype(float)\n",
    "nloc = 4\n",
    "ndim=2\n",
    "totele = mesh.n_cells\n",
    "ndglno = mesh.cells[0][1].flatten() + 1\n",
    "alpha = 1/3\n",
    "relax_keep_off = 0.5\n",
    "nfilt_size_sfc= 11\n",
    "scale_matrices = True # scale sfc and original meshes by ml or not\n",
    "lvl_start_jac = 1 # level to start jacobi iteration, default is 1\n",
    "#ntime=10"
   ]
  },
  {
   "cell_type": "code",
   "execution_count": 14,
   "id": "jN7wpeqqkyYi",
   "metadata": {
    "id": "jN7wpeqqkyYi"
   },
   "outputs": [],
   "source": [
    "# Point source in middle of domain\n",
    "s[int(nonods/2)] = 1"
   ]
  },
  {
   "cell_type": "code",
   "execution_count": 15,
   "id": "82ed854c",
   "metadata": {
    "id": "82ed854c"
   },
   "outputs": [],
   "source": [
    "# Get the global node number for each node per FE \n",
    "x_all = [[], []]\n",
    "for node in ndglno:\n",
    "    x_all[0].append(mesh.points[node-1][1])\n",
    "    x_all[1].append(mesh.points[node-1][0])"
   ]
  },
  {
   "cell_type": "code",
   "execution_count": 16,
   "id": "46ae9e07",
   "metadata": {
    "id": "46ae9e07"
   },
   "outputs": [],
   "source": [
    "# create the adjacency matrix to store connections\n",
    "adjacency_matrix = torch.eye(nonods)\n",
    "\n",
    "# populate the connections with a one \n",
    "for element in mesh.cells[0][1]:\n",
    "    for i in element:\n",
    "        for j in element:\n",
    "            if adjacency_matrix[i][j] != 1:\n",
    "                adjacency_matrix[i][j] = 1"
   ]
  },
  {
   "cell_type": "code",
   "execution_count": 17,
   "id": "c27ba77c",
   "metadata": {
    "id": "c27ba77c"
   },
   "outputs": [],
   "source": [
    "# Get the indices for the nonzeros(nnzs) in the adjacency matrix\n",
    "a_indices = adjacency_matrix.nonzero().t().contiguous()"
   ]
  },
  {
   "cell_type": "code",
   "execution_count": 18,
   "id": "f2e69826",
   "metadata": {
    "id": "f2e69826"
   },
   "outputs": [],
   "source": [
    "# Get the cola and fina lists for the sparse matrix\n",
    "cola = a_indices[1] + 1\n",
    "fina = np.zeros(nonods+1)\n",
    "fina_value = 1\n",
    "i=0\n",
    "\n",
    "for occurrence in torch.bincount(a_indices[0]):\n",
    "    fina[i] = fina_value\n",
    "    fina_value += occurrence.item()\n",
    "    i += 1\n",
    "    \n",
    "fina[-1] = fina_value\n",
    "fina = fina.astype(int)"
   ]
  },
  {
   "cell_type": "code",
   "execution_count": 19,
   "id": "151918b3",
   "metadata": {
    "id": "151918b3"
   },
   "outputs": [],
   "source": [
    "# Get the number of nnzs\n",
    "ncola = cola.shape[0]"
   ]
  },
  {
   "cell_type": "code",
   "execution_count": 20,
   "id": "14e8d1ed",
   "metadata": {
    "id": "14e8d1ed"
   },
   "outputs": [
    {
     "name": "stdout",
     "output_type": "stream",
     "text": [
      " going into get_shape_funs_with_faces\n",
      " just about to allocate\n",
      " nloc, sngi, ngi, ndim, nface,max_face_list_no:           4           3           9           2           4           2\n",
      " npoly,ele_type:           1           1\n",
      " here 1\n",
      " here 2\n",
      " here 3\n",
      " get_shape_funs\n",
      " going into SPECTR\n",
      " here 1.1\n",
      " ndgi,ndnod,nmdnod:           3           2           2\n",
      " here 1.2\n",
      " here 1.3\n",
      " here 1.4\n",
      " here 1.5\n",
      " here 1.6 d2= T\n",
      " just leaving spectr\n",
      " out of SPECTR\n",
      " going into SPECTR\n",
      " just leaving spectr\n",
      " out of SPECTR\n",
      " sNGI,sNLOC_temp,ndim,IPOLY,IQADRA:           3           2           2           1           1\n",
      " snlx(:,idim,siloc):           1           1 -0.500000000     -0.500000000     -0.500000000    \n",
      " snlx(:,idim,siloc):           1           2  0.500000000      0.500000000      0.500000000    \n",
      " sWEIGHT:  0.555555582      0.888888896      0.555555582    \n",
      " sndim:           1\n",
      " finished get_shape_funs\n",
      " sn:  0.887298346      0.500000000      0.112701654      0.112701654      0.500000000      0.887298346    \n",
      " snlx: -0.500000000     -0.500000000     -0.500000000      0.500000000      0.500000000      0.500000000    \n",
      " sweight:  0.555555582      0.888888896      0.555555582    \n",
      " snlx(:,idim,siloc):           1           1 -0.500000000     -0.500000000     -0.500000000    \n",
      " snlx(:,idim,siloc):           1           2  0.500000000      0.500000000      0.500000000    \n"
     ]
    }
   ],
   "source": [
    "a, b, ml = sf.get_fe_matrix_eqn(x_all= x_all, u=u, k=k, sig=sig, s=s, fina=fina, cola=cola, ncola=ncola, ndglno=ndglno, nonods=nonods, totele=totele,nloc=nloc, ndim=ndim, ele_type=1)"
   ]
  },
  {
   "cell_type": "markdown",
   "id": "103c5eaa",
   "metadata": {
    "id": "103c5eaa"
   },
   "source": [
    "# Remove boundary nodes from a, b and ml"
   ]
  },
  {
   "cell_type": "code",
   "execution_count": 21,
   "id": "91a3fd2a",
   "metadata": {
    "id": "91a3fd2a"
   },
   "outputs": [],
   "source": [
    "def get_boundary_nonboundary_nodes(mesh=mesh): \n",
    "    ''' Function to get boundary and non-boundary nodes of the mesh'''\n",
    "    \n",
    "    boundary_nodes = []\n",
    "    non_boundary_nodes = []\n",
    "    \n",
    "    x_min = mesh.points.transpose()[0].min()\n",
    "    x_max = mesh.points.transpose()[0].max()\n",
    "    y_min = mesh.points.transpose()[1].min()\n",
    "    y_max = mesh.points.transpose()[1].max()\n",
    "    for i in range(nonods):\n",
    "        if mesh.points.transpose()[0][i] == x_min or mesh.points.transpose()[0][i] == x_max or mesh.points.transpose()[1][i] == y_min or mesh.points.transpose()[1][i] == y_max:\n",
    "            boundary_nodes.append(i)\n",
    "        else:\n",
    "            non_boundary_nodes.append(i)\n",
    "    return boundary_nodes, non_boundary_nodes"
   ]
  },
  {
   "cell_type": "code",
   "execution_count": 22,
   "id": "77bae818",
   "metadata": {
    "id": "77bae818"
   },
   "outputs": [],
   "source": [
    "# Get boundary and non-boundary nodes\n",
    "boundary_nodes = get_boundary_nonboundary_nodes()[0]\n",
    "non_boundary_nodes = get_boundary_nonboundary_nodes()[1]"
   ]
  },
  {
   "cell_type": "code",
   "execution_count": 23,
   "id": "ac5c9386",
   "metadata": {
    "id": "ac5c9386"
   },
   "outputs": [],
   "source": [
    "# First, get a matrix and convert to sparse\n",
    "a_sparse = torch.sparse_coo_tensor(a_indices, a, (nonods, nonods))"
   ]
  },
  {
   "cell_type": "code",
   "execution_count": 24,
   "id": "e19956f9",
   "metadata": {
    "id": "e19956f9"
   },
   "outputs": [],
   "source": [
    "# Remove all boundary nodes from a, b add ml\n",
    "new_a = np.delete(np.delete(np.array(a_sparse.to_dense()), boundary_nodes, 0), boundary_nodes, 1)\n",
    "new_b = np.delete(b, boundary_nodes, 0)\n",
    "new_ml = np.delete(ml, boundary_nodes, 0)"
   ]
  },
  {
   "cell_type": "markdown",
   "id": "ka06t6B4mQLy",
   "metadata": {
    "id": "ka06t6B4mQLy"
   },
   "source": [
    "\n",
    "# Scale a, b, ml for original mesh"
   ]
  },
  {
   "cell_type": "code",
   "execution_count": 25,
   "id": "koez1PJkKamt",
   "metadata": {
    "id": "koez1PJkKamt"
   },
   "outputs": [],
   "source": [
    "# Get new number of nodes after removing boundary nodes\n",
    "new_nonods = new_a.shape[0]"
   ]
  },
  {
   "cell_type": "code",
   "execution_count": 26,
   "id": "73f29779",
   "metadata": {
    "id": "73f29779"
   },
   "outputs": [],
   "source": [
    "# Convert new_a to sparse\n",
    "new_a_indices = np.array(new_a.nonzero())\n",
    "values_new_a = new_a[new_a_indices[0], new_a_indices[1]]\n",
    "#new_a_sparse = torch.new_a.nonzero()\n",
    "new_a_sparse = torch.sparse_coo_tensor(new_a_indices, values_new_a, (new_nonods,new_nonods))"
   ]
  },
  {
   "cell_type": "code",
   "execution_count": 27,
   "id": "673c58d2",
   "metadata": {
    "id": "673c58d2"
   },
   "outputs": [],
   "source": [
    "# convert new ml to sparse and get ml_inv as well\n",
    "indices_ml_new = torch.zeros((2,new_nonods))\n",
    "for i in range(new_nonods):\n",
    "    indices_ml_new[0][i] = i\n",
    "    indices_ml_new[1][i] = i\n",
    "\n",
    "indices_ml_new = indices_ml_new.int()\n",
    "\n",
    "new_ml_sparse = torch.sparse_coo_tensor(indices_ml_new, new_ml, (new_nonods,new_nonods))\n",
    "\n",
    "new_ml_sparse_inv = torch.sparse_coo_tensor(indices_ml_new, 1/new_ml, (new_nonods,new_nonods))"
   ]
  },
  {
   "cell_type": "code",
   "execution_count": 28,
   "id": "f3f927a1",
   "metadata": {
    "id": "f3f927a1"
   },
   "outputs": [],
   "source": [
    "# simply divide new_a_sparse and new_b by new_ml\n",
    "#if scale_matrices == True:\n",
    "new_a_sparse = torch.sparse.mm(new_ml_sparse_inv, new_a_sparse)\n",
    "new_b = new_b/new_ml"
   ]
  },
  {
   "cell_type": "markdown",
   "id": "PHZMle6MUXFr",
   "metadata": {
    "id": "PHZMle6MUXFr"
   },
   "source": [
    "# Get both SFC matrices for all levels"
   ]
  },
  {
   "cell_type": "code",
   "execution_count": 29,
   "id": "f31699c1",
   "metadata": {
    "id": "f31699c1"
   },
   "outputs": [],
   "source": [
    "# Get new fina and cola values\n",
    "new_a_indices = torch.Tensor(new_a).nonzero().t()\n",
    "\n",
    "cola = new_a_indices[1] + 1\n",
    "fina = np.zeros(new_nonods+1)\n",
    "fina_value = 1\n",
    "i=0\n",
    "\n",
    "for occurrence in torch.bincount(new_a_indices[0]):\n",
    "    fina[i] = fina_value\n",
    "    fina_value += occurrence.item()\n",
    "    i += 1\n",
    "fina[-1] = fina_value\n",
    "fina = fina.astype(int)\n",
    "\n",
    "ncola = cola.shape[0]"
   ]
  },
  {
   "cell_type": "code",
   "execution_count": 30,
   "id": "bba9a03c",
   "metadata": {
    "id": "bba9a03c"
   },
   "outputs": [],
   "source": [
    "# SFCs variables\n",
    "ncurve = 2 # number of sfcs\n",
    "graph_trim = -10  # has always been set at -10\n",
    "starting_node = 0"
   ]
  },
  {
   "cell_type": "code",
   "execution_count": 31,
   "id": "b6abf6ac",
   "metadata": {
    "id": "b6abf6ac"
   },
   "outputs": [],
   "source": [
    "whichd, space_filling_curve_numbering = sfc.ncurve_python_subdomain_space_filling_curve(cola, fina, starting_node, graph_trim, ncurve, new_nonods, ncola)"
   ]
  },
  {
   "cell_type": "code",
   "execution_count": 32,
   "id": "0e8b0a4a",
   "metadata": {
    "id": "0e8b0a4a"
   },
   "outputs": [],
   "source": [
    "N = len(space_filling_curve_numbering)\n",
    "inverse_numbering = np.zeros((N, ncurve), dtype=int)\n",
    "\n",
    "inverse_numbering[:, 0] = np.argsort(space_filling_curve_numbering[:, 0])\n",
    "inverse_numbering[:, 1] = np.argsort(space_filling_curve_numbering[:, 1])"
   ]
  },
  {
   "cell_type": "code",
   "execution_count": 33,
   "id": "ba0a69ad",
   "metadata": {
    "id": "ba0a69ad"
   },
   "outputs": [],
   "source": [
    "max_nlevel = sf.calculate_nlevel_sfc(new_nonods) + 1\n",
    "max_nonods_sfc_all_grids = 4*new_nonods"
   ]
  },
  {
   "cell_type": "code",
   "execution_count": 34,
   "id": "6fe4848a",
   "metadata": {
    "id": "6fe4848a"
   },
   "outputs": [
    {
     "name": "stdout",
     "output_type": "stream",
     "text": [
      " 2-just inside best_sfc_mapping_to_sfc_matrix_n\n",
      " here 2\n",
      " just leaving best_sfc_mapping_to_sfc_matrix_n\n",
      " 2-just inside best_sfc_mapping_to_sfc_matrix_n\n",
      " here 2\n",
      " just leaving best_sfc_mapping_to_sfc_matrix_n\n"
     ]
    }
   ],
   "source": [
    "a_sfc_1, b_sfc_1, ml_sfc_1, fin_sfc_nonods, nonods_sfc_all_grids, nlevel = sf.best_sfc_mapping_to_sfc_matrix_n(a=values_new_a, b=new_b, ml=new_ml, fina=fina, cola=cola, sfc_node_ordering=space_filling_curve_numbering[:, 0], ncola=ncola, nonods=new_nonods, max_nonods_sfc_all_grids=max_nonods_sfc_all_grids, max_nlevel=max_nlevel, relax_keep_off=relax_keep_off, nfilt_size_sfc=nfilt_size_sfc)\n",
    "a_sfc_2, b_sfc_2, ml_sfc_2, _, _, _ = sf.best_sfc_mapping_to_sfc_matrix_n(a=values_new_a, b=new_b, ml=new_ml, fina=fina, cola=cola, sfc_node_ordering=space_filling_curve_numbering[:, 1], ncola=ncola, nonods=new_nonods, max_nonods_sfc_all_grids=max_nonods_sfc_all_grids, max_nlevel=max_nlevel, relax_keep_off=relax_keep_off, nfilt_size_sfc=nfilt_size_sfc)"
   ]
  },
  {
   "cell_type": "code",
   "execution_count": 35,
   "id": "0b16328b",
   "metadata": {
    "id": "0b16328b"
   },
   "outputs": [],
   "source": [
    "#Store in lists for access\n",
    "a_sfc = [torch.Tensor(a_sfc_1), torch.Tensor(a_sfc_2)]\n",
    "b_sfc = [torch.Tensor(b_sfc_1), torch.Tensor(b_sfc_2)]\n",
    "ml_sfc = [torch.Tensor(ml_sfc_1), torch.Tensor(ml_sfc_2)]"
   ]
  },
  {
   "cell_type": "markdown",
   "id": "R_CXkPyjOcOw",
   "metadata": {
    "id": "R_CXkPyjOcOw"
   },
   "source": [
    "# Get SFC matrices and vectors in each level"
   ]
  },
  {
   "cell_type": "code",
   "execution_count": 36,
   "id": "f673eb46",
   "metadata": {
    "id": "f673eb46"
   },
   "outputs": [],
   "source": [
    "def get_a_ml_b(level, curve, fin_sfc_nonods=fin_sfc_nonods, a_sfc=a_sfc, b_sfc=b_sfc, ml_sfc=ml_sfc, nfilt_size_sfc=nfilt_size_sfc, scale_matrices=scale_matrices):\n",
    "    '''Function to get a, b ml and ml inverse in sfc ordering for each level as sparse matrices\n",
    "    \n",
    "        Input\n",
    "        ---------------------------------------------------------------------------------------------\n",
    "        level: Level to get sfc ordering starting from 0 as the first\n",
    "        curve: the sfc curve to consider\n",
    "        fin_sfc_nonods: List containing the starting index in a_sfc of each level\n",
    "        a_sfc = list containing a_sfcs in different SFC ordering\n",
    "        b_sfc = list containing b_sfcs in different SFC ordering\n",
    "        ml_sfc = list containing ml_sfcs in different SFC ordering\n",
    "        \n",
    "        Output\n",
    "        ---------------------------------------------------------------------------------------------\n",
    "        a_sfc_level_sparse: a matrix in SFC ordering for specified level\n",
    "        b_sfc_level: b vector in SFC ordering for specified level\n",
    "        diagonal: Diagonal values in a_sfc_level_sparse\n",
    "        nonods: Number of nodes in specified level\n",
    "    '''\n",
    "    # level 0 is the highest level\n",
    "    # level nlevel-1 is the lowest level\n",
    "    # subtracting 1 because fortran indexes from 1 but python indexes from 0\n",
    "    start_index = fin_sfc_nonods[level] - 1\n",
    "    end_index = fin_sfc_nonods[level + 1] - 1\n",
    "    \n",
    "    nonods = end_index - start_index\n",
    "    \n",
    "    #---------------------------- get a_sfc_level-------------------------------#\n",
    "    # find the diag index\n",
    "    diag_index = int(nfilt_size_sfc/2)\n",
    "    \n",
    "    # main diagonal \n",
    "    diagonal = a_sfc[curve][diag_index][start_index:end_index]\n",
    "    a_sfc_level = torch.diag(diagonal)\n",
    "    \n",
    "    #------------ accounting for bigger filter sizes -----------------#\n",
    "    for i in range(nfilt_size_sfc):\n",
    "        if i < diag_index:\n",
    "            if start_index+(diag_index-i) > end_index:\n",
    "                continue\n",
    "            a_sfc_level += torch.diag(a_sfc[curve][i][start_index+(diag_index-i):end_index], diagonal=i-diag_index)\n",
    "        elif i > diag_index:\n",
    "            if start_index > end_index-(i-diag_index):\n",
    "                continue\n",
    "            a_sfc_level += torch.diag(a_sfc[curve][i][start_index:end_index-(i-diag_index)], diagonal=i-diag_index)\n",
    "        \n",
    "    \n",
    "    #----------- convert a_sfc_level to sparse --------------#\n",
    "    # get indices\n",
    "    a_sfc_level_indices = a_sfc_level.nonzero().t()\n",
    "    # get values\n",
    "    a_sfc_level_values = a_sfc_level[a_sfc_level_indices[0], a_sfc_level_indices[1]]\n",
    "    \n",
    "    a_sfc_level_sparse = torch.sparse_coo_tensor(a_sfc_level_indices, a_sfc_level_values, (nonods, nonods))\n",
    "    \n",
    "    \n",
    "    \n",
    "    #-----------get ml_sfc_level and its inverse and convert  to sparse ----------#\n",
    "    ml_sfc_level = ml_sfc[curve][start_index:end_index]\n",
    "\n",
    "    #indices\n",
    "    ml_sfc_level_indices = torch.zeros((2,nonods))\n",
    "    ml_sfc_level_indices[0] = torch.Tensor([i for i in range(nonods)])\n",
    "    ml_sfc_level_indices[1] = ml_sfc_level_indices[0]\n",
    "    ml_sfc_level_indices = ml_sfc_level_indices.int()\n",
    "\n",
    "    # convert to sparse\n",
    "    ml_sfc_level_sparse = torch.sparse_coo_tensor(ml_sfc_level_indices, ml_sfc_level, (nonods, nonods))\n",
    "    # inverse\n",
    "    ml_sfc_level_sparse_inv = torch.sparse_coo_tensor(ml_sfc_level_indices, 1/ml_sfc_level, (nonods, nonods))\n",
    "    \n",
    "    \n",
    "    #---------------------------- get b_sfc -----------------------------------#\n",
    "    b_sfc_level = b_sfc[curve][start_index:end_index]\n",
    "    \n",
    "\n",
    "    #----------------------- Divide each one by ml_sfc_level ------------------#\n",
    "    if scale_matrices == True:\n",
    "        a_sfc_level_sparse = torch.sparse.mm(ml_sfc_level_sparse_inv, a_sfc_level_sparse)\n",
    "        b_sfc_level = b_sfc_level/ml_sfc_level\n",
    "    \n",
    "    #  ml_sfc_level_sparse, ml_sfc_level_sparse_inv,\n",
    "    return a_sfc_level_sparse, b_sfc_level, diagonal, nonods"
   ]
  },
  {
   "cell_type": "code",
   "execution_count": 37,
   "id": "939bd903",
   "metadata": {
    "id": "939bd903"
   },
   "outputs": [],
   "source": [
    "# variables_first_sfc[0][0] - a_sfc for level 0 in first sfc\n",
    "# variables_first_sfc[0][1] - b_sfc for level 0 in first sfc\n",
    "# variables_first_sfc[0][2] - diagonal for level 0 in first sfc\n",
    "# variables_first_sfc[0][3] - nonods for level 0 in first sfc\n",
    "\n",
    "levels = [level for level in range(nlevel)]\n",
    "\n",
    "# ------------------------------- FIRST CURVE -----------------------------#\n",
    "iteration_0 = [0]*nlevel\n",
    "variables_first_sfc = list(map(get_a_ml_b, levels, iteration_0))\n",
    "\n",
    "\n",
    "# ------------------------------- SECOND CURVE -----------------------------#\n",
    "iteration_1 = [1]*nlevel\n",
    "variables_second_sfc = list(map(get_a_ml_b, levels, iteration_1))\n",
    "\n",
    "# save in list/tensor (which is faster?)\n",
    "variables_sfc = [variables_first_sfc, variables_second_sfc]"
   ]
  },
  {
   "cell_type": "markdown",
   "id": "nKuweZGsU_X7",
   "metadata": {
    "id": "nKuweZGsU_X7"
   },
   "source": [
    "# Jacobi Matrix"
   ]
  },
  {
   "cell_type": "code",
   "execution_count": 38,
   "id": "d3a6f3dd",
   "metadata": {
    "id": "d3a6f3dd"
   },
   "outputs": [],
   "source": [
    "class CNN1D_A(nn.Module):\n",
    "    def __init__(self):\n",
    "        super(CNN1D_A, self).__init__()\n",
    "    \n",
    "    def forward(self, level, curve, Tn, variables_sfc=variables_sfc):\n",
    "        '''Convolutional Neural Network to multiply the scalar field by the scaled FEM matrix\n",
    "        \n",
    "        Input\n",
    "        ----------------------------------------------------------------------------------------------\n",
    "        level: Grid level of the agglomerated mesh. Level 0 is the finest grid and level nlevel-1 is the lowest grid with nonods=1\n",
    "        curve: The SFC curve to consider; 0 or 1\n",
    "        Tn: The current scalar field\n",
    "        variables_sfc: List that contains the a, b, diagonal weights in a and nonods in specified level for both SFCs\n",
    "        \n",
    "        Output\n",
    "        ----------------------------------------------------------------------------------------------\n",
    "        Tn_1: The next solution of the scalar field\n",
    "        \n",
    "        '''\n",
    "        # get a_sfc and ml_sfc for this level and curve\n",
    "        a_sfc_sparse, b_sfc_level, diag_weights, nonods_level = variables_sfc[curve][level]\n",
    "        \n",
    "        # timestep\n",
    "        Tn_1 = torch.sparse.mm(a_sfc_sparse, Tn.view(nonods_level,1))\n",
    "            \n",
    "        return Tn_1.view(1,1,nonods_level), diag_weights.view(1,1,nonods_level)"
   ]
  },
  {
   "cell_type": "markdown",
   "id": "ISUoylzOpNUL",
   "metadata": {
    "id": "ISUoylzOpNUL"
   },
   "source": [
    "# Check the agglomeration of the mesh"
   ]
  },
  {
   "cell_type": "code",
   "execution_count": 39,
   "id": "BawKEdXxpRzz",
   "metadata": {
    "id": "BawKEdXxpRzz"
   },
   "outputs": [],
   "source": [
    "nodes_per_level = [fin_sfc_nonods[i] - fin_sfc_nonods[i-1] for i in range(1, nlevel+1)]"
   ]
  },
  {
   "cell_type": "code",
   "execution_count": 40,
   "id": "ZDI0BkdMAJff",
   "metadata": {
    "colab": {
     "base_uri": "https://localhost:8080/"
    },
    "executionInfo": {
     "elapsed": 19,
     "status": "ok",
     "timestamp": 1662431011876,
     "user": {
      "displayName": "Chukwume Ijeh",
      "userId": "15775749881944981513"
     },
     "user_tz": -60
    },
    "id": "ZDI0BkdMAJff",
    "outputId": "8816d1ee-46a1-40da-80c4-5d758ff8cbe8"
   },
   "outputs": [
    {
     "data": {
      "text/plain": [
       "(11, [900, 450, 225, 113, 57, 29, 15, 8, 4, 2, 1])"
      ]
     },
     "execution_count": 40,
     "metadata": {},
     "output_type": "execute_result"
    }
   ],
   "source": [
    "nlevel, nodes_per_level"
   ]
  },
  {
   "cell_type": "markdown",
   "id": "f4e03d41",
   "metadata": {
    "id": "f4e03d41"
   },
   "source": [
    "# Restrictor"
   ]
  },
  {
   "cell_type": "code",
   "execution_count": 41,
   "id": "3831c1eb",
   "metadata": {
    "id": "3831c1eb"
   },
   "outputs": [],
   "source": [
    "# Two restrictors will be used\n",
    "# for levels that can be divided by 2\n",
    "CNN1D_res = nn.Conv1d(1, 1, kernel_size=2, stride=2, padding='valid', bias=False) \n",
    "filter_ = torch.Tensor([[0.5, 0.5]]).float().view(1, 1, 2) \n",
    "CNN1D_res.weight.data = filter_\n",
    "\n",
    "# for levels that cannot\n",
    "CNN1D_res_odd = nn.Conv1d(1, 1, kernel_size=2, stride=2, padding=0, bias=False)\n",
    "filter_odd = torch.Tensor([[0.5, 0.5]]).float().view(1, 1, 2) \n",
    "CNN1D_res_odd.weight.data = filter_odd"
   ]
  },
  {
   "cell_type": "code",
   "execution_count": 42,
   "id": "b342e300",
   "metadata": {
    "id": "b342e300"
   },
   "outputs": [],
   "source": [
    "# if theres an odd number in the agglomeration of the mesh, use CNN1D_res_odd through out, if not, use CNN1D_res\n",
    "odd_meshes = False\n",
    "\n",
    "for i in range(nlevel-1):\n",
    "    if nodes_per_level[i]%2 == 1:\n",
    "        odd_meshes = True\n",
    "        break"
   ]
  },
  {
   "cell_type": "code",
   "execution_count": 43,
   "id": "2c268eb9",
   "metadata": {
    "colab": {
     "base_uri": "https://localhost:8080/"
    },
    "executionInfo": {
     "elapsed": 12,
     "status": "ok",
     "timestamp": 1662431011877,
     "user": {
      "displayName": "Chukwume Ijeh",
      "userId": "15775749881944981513"
     },
     "user_tz": -60
    },
    "id": "2c268eb9",
    "outputId": "9bcd0c48-c9a2-417a-c5b7-a3f565e65750"
   },
   "outputs": [
    {
     "data": {
      "text/plain": [
       "True"
      ]
     },
     "execution_count": 43,
     "metadata": {},
     "output_type": "execute_result"
    }
   ],
   "source": [
    "odd_meshes"
   ]
  },
  {
   "cell_type": "markdown",
   "id": "a476a1a2",
   "metadata": {
    "id": "a476a1a2"
   },
   "source": [
    "# Prolongator"
   ]
  },
  {
   "cell_type": "code",
   "execution_count": 44,
   "id": "12250e2d",
   "metadata": {
    "id": "12250e2d"
   },
   "outputs": [],
   "source": [
    "CNN1D_prol = nn.Upsample(scale_factor=2)"
   ]
  },
  {
   "cell_type": "markdown",
   "id": "c6a5843c",
   "metadata": {
    "id": "c6a5843c"
   },
   "source": [
    "# Initial Condition"
   ]
  },
  {
   "cell_type": "code",
   "execution_count": 45,
   "id": "6b9c9603",
   "metadata": {
    "id": "6b9c9603"
   },
   "outputs": [],
   "source": [
    "T = np.zeros([nx,ny])\n",
    "gamma = 40\n",
    "# initialise t:\n",
    "x0 = 0 \n",
    "y0 = -50\n",
    "# x and y are vectors of the same shape (1, nx)\n",
    "x_ = np.zeros([1,nx])\n",
    "y_ = np.zeros([1,nx])\n",
    "for ii in range(nx):\n",
    "    x_[0][ii] = -150 + 300/nx*ii\n",
    "    y_[0][ii] = -150 + 300/nx*ii   \n",
    "    \n",
    "# dirichlet boundary conditions where the boundaries remain zero\n",
    "for i in range(1,nx-1):\n",
    "    for j in range(1,ny-1):\n",
    "        temp1 = -((x_[0][i] - x0)**2 + (y_[0][j] - y0)**2)\n",
    "        temp2 = 2*gamma**2\n",
    "        T[i][j] = math.exp(temp1/temp2)\n",
    "        \n",
    "input_shape = (1,nx,ny,1)\n",
    "\n",
    "values = np.zeros(input_shape)\n",
    "\n",
    "# # generate Gaussian with a blob\n",
    "# for i in range(nx):\n",
    "#     for j in range(ny):\n",
    "#         values[0][i][j][0] = T[i][j] #+ Z1[i][j] + Z2[i][j] + Z3[i][j]*0.5\n",
    "        \n",
    "# generate square dist - for 128x128\n",
    "# for i in range(20):\n",
    "#     for j in range(20):\n",
    "#         values[0][i+75][j+70][0] = values[0][i+75][j+70][0] + 1\n",
    "\n",
    "#generate square dist - for 64x64\n",
    "# for i in range(20):\n",
    "#     for j in range(20):\n",
    "#         values[0][i+40][j+35][0] = values[0][i+40][j+35][0] + 1\n",
    "\n",
    "# generate square dist - for 32x32\n",
    "for i in range(5):\n",
    "    for j in range(5):\n",
    "        values[0][i+10][j+15][0] = values[0][i+10][j+15][0] + 1\n",
    "        \n",
    "        \n",
    "values_ = torch.Tensor(values).view(nonods,1)"
   ]
  },
  {
   "cell_type": "code",
   "execution_count": 46,
   "id": "40608427",
   "metadata": {
    "colab": {
     "base_uri": "https://localhost:8080/",
     "height": 1000
    },
    "executionInfo": {
     "elapsed": 4304,
     "status": "ok",
     "timestamp": 1662431084885,
     "user": {
      "displayName": "Chukwume Ijeh",
      "userId": "15775749881944981513"
     },
     "user_tz": -60
    },
    "id": "40608427",
    "outputId": "b194c9ea-e137-4311-d3be-0a66584aa348",
    "scrolled": false
   },
   "outputs": [
    {
     "data": {
      "image/png": "[encoded data removed]",
      "text/plain": [
       "<PIL.Image.Image image mode=RGB size=1024x768>"
      ]
     },
     "metadata": {},
     "output_type": "display_data"
    },
    {
     "data": {
      "text/plain": [
       "[<matplotlib.lines.Line2D at 0x7f5160fb4eb0>]"
      ]
     },
     "execution_count": 46,
     "metadata": {},
     "output_type": "execute_result"
    },
    {
     "data": {
      "image/png": "[encoded data removed]",
      "text/plain": [
       "<Figure size 432x288 with 1 Axes>"
      ]
     },
     "metadata": {
      "needs_background": "light"
     },
     "output_type": "display_data"
    }
   ],
   "source": [
    "#pn.extension('vtk') \n",
    "# New plot\n",
    "mesh.point_data = {'Concentration': values_}\n",
    "mesh.plot(notebook=True, cpos='xy', clim=[0,1], style='surface', jupyter_backend='static')\n",
    "plt.plot(values_[:])"
   ]
  },
  {
   "cell_type": "code",
   "execution_count": 47,
   "id": "3ebd1804",
   "metadata": {
    "id": "3ebd1804"
   },
   "outputs": [],
   "source": [
    "new_values = torch.Tensor(np.delete(values_, boundary_nodes, 0)).view(1,1,new_nonods)"
   ]
  },
  {
   "cell_type": "code",
   "execution_count": 48,
   "id": "2f501ed9",
   "metadata": {
    "colab": {
     "base_uri": "https://localhost:8080/",
     "height": 286
    },
    "executionInfo": {
     "elapsed": 5,
     "status": "ok",
     "timestamp": 1662431091452,
     "user": {
      "displayName": "Chukwume Ijeh",
      "userId": "15775749881944981513"
     },
     "user_tz": -60
    },
    "id": "2f501ed9",
    "outputId": "286766e4-1f54-4caf-f9c9-8953ca45c5a4",
    "scrolled": true
   },
   "outputs": [
    {
     "data": {
      "text/plain": [
       "[<matplotlib.lines.Line2D at 0x7f5160eb4a90>]"
      ]
     },
     "execution_count": 48,
     "metadata": {},
     "output_type": "execute_result"
    },
    {
     "data": {
      "image/png": "[encoded data removed]",
      "text/plain": [
       "<Figure size 432x288 with 1 Axes>"
      ]
     },
     "metadata": {
      "needs_background": "light"
     },
     "output_type": "display_data"
    }
   ],
   "source": [
    "plt.plot(new_values[0,0,:])"
   ]
  },
  {
   "cell_type": "code",
   "execution_count": 49,
   "id": "2966afed",
   "metadata": {
    "colab": {
     "base_uri": "https://localhost:8080/",
     "height": 286
    },
    "executionInfo": {
     "elapsed": 5,
     "status": "ok",
     "timestamp": 1662431092290,
     "user": {
      "displayName": "Chukwume Ijeh",
      "userId": "15775749881944981513"
     },
     "user_tz": -60
    },
    "id": "2966afed",
    "outputId": "61757bf2-d168-47b5-d054-ee7cc7c81c7c"
   },
   "outputs": [
    {
     "data": {
      "text/plain": [
       "[<matplotlib.lines.Line2D at 0x7f51605181f0>]"
      ]
     },
     "execution_count": 49,
     "metadata": {},
     "output_type": "execute_result"
    },
    {
     "data": {
      "image/png": "[encoded data removed]",
      "text/plain": [
       "<Figure size 432x288 with 1 Axes>"
      ]
     },
     "metadata": {
      "needs_background": "light"
     },
     "output_type": "display_data"
    }
   ],
   "source": [
    "plt.plot(s[:])"
   ]
  },
  {
   "cell_type": "markdown",
   "id": "1210718c",
   "metadata": {
    "id": "1210718c"
   },
   "source": [
    "# Multigrid with skipping layer"
   ]
  },
  {
   "cell_type": "code",
   "execution_count": 50,
   "id": "jQDEfmLAjaPF",
   "metadata": {
    "id": "jQDEfmLAjaPF"
   },
   "outputs": [],
   "source": [
    "# Convert b to tensor and reshape\n",
    "new_b = torch.Tensor(new_b).view(1,1,new_nonods)"
   ]
  },
  {
   "cell_type": "code",
   "execution_count": 51,
   "id": "e3df7ad3",
   "metadata": {
    "colab": {
     "base_uri": "https://localhost:8080/"
    },
    "executionInfo": {
     "elapsed": 3373234,
     "status": "ok",
     "timestamp": 1662435972206,
     "user": {
      "displayName": "Chukwume Ijeh",
      "userId": "15775749881944981513"
     },
     "user_tz": -60
    },
    "id": "e3df7ad3",
    "outputId": "248b52e7-8576-434d-9aac-dcd0c11e94f1"
   },
   "outputs": [
    {
     "name": "stdout",
     "output_type": "stream",
     "text": [
      "Computational time(s): 8.491032361984253\n",
      "Time steps: 1\n",
      "Multigrid iterations: 100\n",
      "Jacobi iterations: 1\n"
     ]
    }
   ],
   "source": [
    "start = time.time()          \n",
    "#b = Tn_sfc            # only for one time step\n",
    "multi_itr = 100        # multigrid iteration\n",
    "\n",
    "# List to store w for each iteration\n",
    "# results_to_csv = np.zeros((multi_itr,2))\n",
    "\n",
    "\n",
    "j_itr = 1             # jacobi iteration \n",
    "ntime = 1             # number of timesteps\n",
    "with torch.no_grad():\n",
    "    \n",
    "    model = CNN1D_A().to(device)\n",
    "    \n",
    "    for multi_grid in range(multi_itr):\n",
    "        \n",
    "      # for each multigrid iteration, you alternate between two sfcs\n",
    "      for curve in range(ncurve):\n",
    "        # initialize w\n",
    "        w = torch.zeros([1,1,1])\n",
    "\n",
    "# --------- Calculate Residual based on initial guess ---------------------------------------------------------------------------------- \n",
    "        r = new_b - (torch.sparse.mm(new_a_sparse, new_values.view(new_nonods,1))).view(1,1,new_nonods)\n",
    "    \n",
    "        # Map residual to sfc ordering\n",
    "        r = torch.Tensor([r[0][0][i] for i in inverse_numbering[:, curve]]).view(1,1,new_nonods)\n",
    "          \n",
    "# --------------------------------------------------------------------------------------------------------------------------------------  \n",
    "# --------- Interpolate Residual from finer to coaser mesh ----------------------------------------------------------------------------- \n",
    "        r_s = []\n",
    "    \n",
    "        #append residual for finest mesh - initial residual\n",
    "        r_s.append(r)\n",
    "          \n",
    "        if odd_meshes == True:\n",
    "            for i in range(1, nlevel):            \n",
    "                r = F.pad(r, (0,1))\n",
    "                r = CNN1D_res_odd(r)\n",
    "                r_s.append(r)\n",
    "        else:\n",
    "            for i in range(1, nlevel):    \n",
    "                r = CNN1D_res(r)\n",
    "                r_s.append(r)\n",
    "\n",
    "# --------------------------------------------------------------------------------------------------------------------------------------      \n",
    "\n",
    "# --------- Interpolate Residual from coaser to finer mesh -----------------------------------------------------------------------------\n",
    "        # level before iteration, not iteration before level\n",
    "        for i in reversed(range(lvl_start_jac, nlevel)): # Eg, 14,13,12...1. Do not include the finest level\n",
    "          for Jacobi in range(j_itr):\n",
    "            w = w - alpha*(model(i, curve, w)[0]/model(i, curve, w)[1]) + alpha*(r_s[i]/model(i, curve, w)[1])\n",
    "            if i != 0:\n",
    "                CNN1D_prol_odd = nn.Upsample(scale_factor=nodes_per_level[i-1]/nodes_per_level[i])\n",
    "                w = CNN1D_prol_odd(w)\n",
    "\n",
    "        # Map w to original order\n",
    "        w = torch.Tensor([w[0][0][i-1] for i in space_filling_curve_numbering[:, curve]]).view(1,1,new_nonods)\n",
    "        \n",
    "        # Put r_s[0] in original order as well\n",
    "        r_s[0] = torch.Tensor([r_s[0][0][0][i-1] for i in space_filling_curve_numbering[:, curve]]).view(1,1,new_nonods)\n",
    "        \n",
    "\n",
    "#------Perform Jacobi relaxation on finest mesh using original residual -----------------------------------------------------------\n",
    "        A_ = (torch.sparse.mm(new_a_sparse, w.view(new_nonods,1))).view(1,1,new_nonods)\n",
    "        d = torch.Tensor([new_a_sparse[i][i].item() for i in range(new_nonods)]).view(1,1,new_nonods)\n",
    "        w = w - alpha*(A_/d) + alpha*(r_s[0]/d)\n",
    "       \n",
    "        # Then add w to new_values\n",
    "        new_values = new_values + w\n",
    "        \n",
    "# -------------------------------------------------------------------------------------------------------------------------------------- \n",
    "# -------------------------------------------------------------------------------------------------------------------------------------- \n",
    "      # Save result to csv\n",
    "      # results_to_csv[multi_grid][0] = int(multi_grid)\n",
    "      # results_to_csv[multi_grid][1] = w[0,0,:].max()\n",
    "      # np.savetxt(\"32_structured_corrections.csv\", results_to_csv, delimiter=\",\")\n",
    "        \n",
    "\n",
    "end = time.time()\n",
    "print('Computational time(s):',(end-start))\n",
    "print('Time steps:', ntime)\n",
    "print('Multigrid iterations:', multi_itr)\n",
    "print('Jacobi iterations:', j_itr)"
   ]
  },
  {
   "cell_type": "markdown",
   "id": "e8210ae2",
   "metadata": {
    "id": "e8210ae2"
   },
   "source": [
    "# Residuals"
   ]
  },
  {
   "cell_type": "code",
   "execution_count": 52,
   "id": "738666c0",
   "metadata": {
    "id": "738666c0",
    "outputId": "0aa44f9e-448c-49a5-c7d6-a0ecd0016ee1"
   },
   "outputs": [
    {
     "data": {
      "text/plain": [
       "([<matplotlib.lines.Line2D at 0x7f51604ce910>], tensor(-8.6904e-07))"
      ]
     },
     "execution_count": 52,
     "metadata": {},
     "output_type": "execute_result"
    },
    {
     "data": {
      "image/png": "[encoded data removed]",
      "text/plain": [
       "<Figure size 432x288 with 1 Axes>"
      ]
     },
     "metadata": {
      "needs_background": "light"
     },
     "output_type": "display_data"
    }
   ],
   "source": [
    "plt.plot(w[0,0,:]), w[0,0,:].max()"
   ]
  },
  {
   "cell_type": "markdown",
   "id": "1625a776",
   "metadata": {},
   "source": [
    "# Result"
   ]
  },
  {
   "cell_type": "code",
   "execution_count": 53,
   "id": "36b103cc",
   "metadata": {
    "colab": {
     "background_save": true
    },
    "id": "36b103cc"
   },
   "outputs": [],
   "source": [
    "combined_values = torch.zeros(nonods)\n",
    "for i in range(new_nonods):\n",
    "    non_boundary_node = non_boundary_nodes[i]\n",
    "    combined_values[non_boundary_node] = new_values.view(new_nonods)[i]"
   ]
  },
  {
   "cell_type": "code",
   "execution_count": 54,
   "id": "d9e6131e",
   "metadata": {
    "id": "d9e6131e",
    "outputId": "32e6a696-8613-4053-e52e-6049015b1511"
   },
   "outputs": [
    {
     "data": {
      "image/png": "[encoded data removed]",
      "text/plain": [
       "<PIL.Image.Image image mode=RGB size=1024x768>"
      ]
     },
     "metadata": {},
     "output_type": "display_data"
    },
    {
     "data": {
      "text/plain": [
       "[<matplotlib.lines.Line2D at 0x7f516042ff70>]"
      ]
     },
     "execution_count": 54,
     "metadata": {},
     "output_type": "execute_result"
    },
    {
     "data": {
      "image/png": "[encoded data removed]",
      "text/plain": [
       "<Figure size 432x288 with 1 Axes>"
      ]
     },
     "metadata": {
      "needs_background": "light"
     },
     "output_type": "display_data"
    }
   ],
   "source": [
    "#pn.extension('vtk') \n",
    "mesh.point_data = {'Concentration': combined_values}\n",
    "mesh.plot(notebook=True, cpos='xy', clim=[0,1], style='surface', jupyter_backend='static')\n",
    "plt.plot(combined_values[:])"
   ]
  }
 ],
 "metadata": {
  "accelerator": "GPU",
  "colab": {
   "collapsed_sections": [],
   "provenance": []
  },
  "gpuClass": "standard",
  "kernelspec": {
   "display_name": "Python 3 (ipykernel)",
   "language": "python",
   "name": "python3"
  },
  "language_info": {
   "codemirror_mode": {
    "name": "ipython",
    "version": 3
   },
   "file_extension": ".py",
   "mimetype": "text/x-python",
   "name": "python",
   "nbconvert_exporter": "python",
   "pygments_lexer": "ipython3",
   "version": "3.8.10"
  }
 },
 "nbformat": 4,
 "nbformat_minor": 5
}
