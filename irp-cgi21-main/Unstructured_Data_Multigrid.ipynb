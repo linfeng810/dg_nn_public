{
 "cells": [
  {
   "cell_type": "code",
   "execution_count": 1,
   "id": "090bf9d3",
   "metadata": {
    "colab": {
     "base_uri": "https://localhost:8080/"
    },
    "executionInfo": {
     "elapsed": 4913,
     "status": "ok",
     "timestamp": 1661745340849,
     "user": {
      "displayName": "Chukwume Ijeh",
      "userId": "15775749881944981513"
     },
     "user_tz": -60
    },
    "id": "090bf9d3",
    "outputId": "bc49f468-e186-4582-8394-f3091b5853bb"
   },
   "outputs": [],
   "source": [
    "#!pip install toughio"
   ]
  },
  {
   "cell_type": "code",
   "execution_count": 2,
   "id": "wkD-3QPWqPJY",
   "metadata": {
    "colab": {
     "base_uri": "https://localhost:8080/"
    },
    "executionInfo": {
     "elapsed": 3130,
     "status": "ok",
     "timestamp": 1661745035460,
     "user": {
      "displayName": "Chukwume Ijeh",
      "userId": "15775749881944981513"
     },
     "user_tz": -60
    },
    "id": "wkD-3QPWqPJY",
    "outputId": "c0e729d9-cd9c-408c-dba7-96e141f831a7"
   },
   "outputs": [],
   "source": [
    "#!apt-get install -qq xvfb\n",
    "#!pip install pyvista panel -q"
   ]
  },
  {
   "cell_type": "code",
   "execution_count": 3,
   "id": "036ae1e2",
   "metadata": {},
   "outputs": [],
   "source": [
    "# Needed to use pyvista to plot in colab\n",
    "# import os\n",
    "# os.system('/usr/bin/Xvfb :99 -screen 0 1024x768x24 &')\n",
    "# os.environ['DISPLAY'] = ':99'"
   ]
  },
  {
   "cell_type": "code",
   "execution_count": 4,
   "id": "79f96042",
   "metadata": {},
   "outputs": [],
   "source": [
    "# Needed to use pyvista to plot in colab\n",
    "# import panel as pn\n",
    "# pn.extension('vtk')"
   ]
  },
  {
   "cell_type": "code",
   "execution_count": 5,
   "id": "c4C1VV1tkh2U",
   "metadata": {
    "colab": {
     "base_uri": "https://localhost:8080/"
    },
    "executionInfo": {
     "elapsed": 1603,
     "status": "ok",
     "timestamp": 1661745040610,
     "user": {
      "displayName": "Chukwume Ijeh",
      "userId": "15775749881944981513"
     },
     "user_tz": -60
    },
    "id": "c4C1VV1tkh2U",
    "outputId": "15bae53f-3bb0-43d9-8b52-63a120a1cd90"
   },
   "outputs": [],
   "source": [
    "# from google.colab import drive\n",
    "# drive.mount('/content/drive')"
   ]
  },
  {
   "cell_type": "code",
   "execution_count": 6,
   "id": "fiQ_EBirk4E3",
   "metadata": {
    "colab": {
     "base_uri": "https://localhost:8080/"
    },
    "executionInfo": {
     "elapsed": 12757,
     "status": "ok",
     "timestamp": 1661745378060,
     "user": {
      "displayName": "Chukwume Ijeh",
      "userId": "15775749881944981513"
     },
     "user_tz": -60
    },
    "id": "fiQ_EBirk4E3",
    "outputId": "165e07ff-52fc-464e-dd9e-5c0d611d0f6f"
   },
   "outputs": [],
   "source": [
    "# import sys\n",
    "# !{sys.executable} -m numpy.f2py --quiet -c '/content/drive/MyDrive/IRP/shape_functions (31).f90' -m shape_functions  --fcompiler=gnu95 --f90flags=-O3\n",
    "# !{sys.executable} -m numpy.f2py --quiet -c '/content/drive/MyDrive/IRP/space_filling_decomp_new.f90' -m space_filling_curves  --fcompiler=gnu95 --f90flags=-O3"
   ]
  },
  {
   "cell_type": "code",
   "execution_count": 7,
   "id": "7fca73e5",
   "metadata": {},
   "outputs": [
    {
     "name": "stdout",
     "output_type": "stream",
     "text": [
      "\u001b[31mWARN: Could not locate executable armflang\u001b[0m\r\n"
     ]
    }
   ],
   "source": [
    "#!python3 -m numpy.f2py -c --quiet 'shape_functions (16).f90' -m shape_functions"
   ]
  },
  {
   "cell_type": "code",
   "execution_count": 8,
   "id": "8b60e04c",
   "metadata": {
    "colab": {
     "base_uri": "https://localhost:8080/"
    },
    "executionInfo": {
     "elapsed": 989,
     "status": "ok",
     "timestamp": 1661745384472,
     "user": {
      "displayName": "Chukwume Ijeh",
      "userId": "15775749881944981513"
     },
     "user_tz": -60
    },
    "id": "8b60e04c",
    "outputId": "5564cc8a-15ed-4093-8ef9-a3a315c3460c"
   },
   "outputs": [
    {
     "name": "stdout",
     "output_type": "stream",
     "text": [
      "No GPU available!\n"
     ]
    }
   ],
   "source": [
    "# Python ≥3.5 is required\n",
    "# Regular libraries\n",
    "import math\n",
    "import numpy as np\n",
    "import copy\n",
    "import time\n",
    "import sys\n",
    "import os\n",
    "\n",
    "# AI libraries \n",
    "import torch\n",
    "from torch_geometric.data import Data\n",
    "import torch.nn as nn\n",
    "import torch.nn.functional as F\n",
    "\n",
    "# FEM and SFC libraries\n",
    "import shape_functions as sf\n",
    "import space_filling_curves as sfc\n",
    "\n",
    "# Mesh libraries\n",
    "import pyvista\n",
    "import toughio\n",
    "\n",
    "# To plot pretty figures\n",
    "%matplotlib inline\n",
    "import matplotlib as mpl\n",
    "import matplotlib.pyplot as plt\n",
    "mpl.rc('axes', labelsize=14)\n",
    "mpl.rc('xtick', labelsize=14)\n",
    "mpl.rc('ytick', labelsize=14)\n",
    "\n",
    "# check if running on gpu\n",
    "device = 'cpu'\n",
    "if torch.cuda.device_count() > 0 and torch.cuda.is_available():\n",
    "    print(\"Cuda installed! Running on GPU!\")\n",
    "    device = 'cuda'\n",
    "else:\n",
    "    print(\"No GPU available!\")"
   ]
  },
  {
   "cell_type": "code",
   "execution_count": 9,
   "id": "4bc938ca",
   "metadata": {
    "executionInfo": {
     "elapsed": 244,
     "status": "ok",
     "timestamp": 1661745385784,
     "user": {
      "displayName": "Chukwume Ijeh",
      "userId": "15775749881944981513"
     },
     "user_tz": -60
    },
    "id": "4bc938ca"
   },
   "outputs": [],
   "source": [
    "np.set_printoptions(threshold=sys.maxsize)"
   ]
  },
  {
   "cell_type": "markdown",
   "id": "356b8ee3",
   "metadata": {},
   "source": [
    "# Load Mesh"
   ]
  },
  {
   "cell_type": "code",
   "execution_count": 10,
   "id": "80d3d96f",
   "metadata": {
    "executionInfo": {
     "elapsed": 3,
     "status": "ok",
     "timestamp": 1661745386366,
     "user": {
      "displayName": "Chukwume Ijeh",
      "userId": "15775749881944981513"
     },
     "user_tz": -60
    },
    "id": "80d3d96f"
   },
   "outputs": [],
   "source": [
    "filename = './Unstructured_Meshes/64x64_triangular_unstruc.vtk'\n",
    "mesh = toughio.read_mesh(filename)"
   ]
  },
  {
   "cell_type": "markdown",
   "id": "9f8c0f30",
   "metadata": {},
   "source": [
    "# FEM discretization using shape_functions module"
   ]
  },
  {
   "cell_type": "code",
   "execution_count": 11,
   "id": "d0580e92",
   "metadata": {
    "executionInfo": {
     "elapsed": 2,
     "status": "ok",
     "timestamp": 1661745386752,
     "user": {
      "displayName": "Chukwume Ijeh",
      "userId": "15775749881944981513"
     },
     "user_tz": -60
    },
    "id": "d0580e92"
   },
   "outputs": [],
   "source": [
    "nonods = mesh.n_points\n",
    "u = np.array([[0]*nonods, [0]*nonods]).astype(float)\n",
    "k = np.array([1] * nonods).astype(float)\n",
    "sig = np.array([0] * nonods).astype(float)\n",
    "s = np.array([0] * nonods).astype(float)\n",
    "nloc = 3\n",
    "ndim=2\n",
    "totele = mesh.n_cells\n",
    "ndglno = mesh.cells[0][1].flatten() + 1\n",
    "alpha = 1\n",
    "relax_keep_off = 0.5\n",
    "nfilt_size_sfc= 9\n",
    "scale_matrices = True # scale sfc and original meshes by ml or not\n",
    "lvl_start_jac = 1     # level to start jacobi iteration, default is 1\n",
    "#ntime=10"
   ]
  },
  {
   "cell_type": "code",
   "execution_count": 12,
   "id": "jN7wpeqqkyYi",
   "metadata": {
    "executionInfo": {
     "elapsed": 3,
     "status": "ok",
     "timestamp": 1661745386981,
     "user": {
      "displayName": "Chukwume Ijeh",
      "userId": "15775749881944981513"
     },
     "user_tz": -60
    },
    "id": "jN7wpeqqkyYi"
   },
   "outputs": [],
   "source": [
    "# Point source in middle of domain\n",
    "s[int(nonods/2)] = 1"
   ]
  },
  {
   "cell_type": "code",
   "execution_count": 13,
   "id": "82ed854c",
   "metadata": {
    "executionInfo": {
     "elapsed": 2,
     "status": "ok",
     "timestamp": 1661745387893,
     "user": {
      "displayName": "Chukwume Ijeh",
      "userId": "15775749881944981513"
     },
     "user_tz": -60
    },
    "id": "82ed854c"
   },
   "outputs": [],
   "source": [
    "# Get the global node number for each node per FE \n",
    "x_all = [[], []]\n",
    "for node in ndglno:\n",
    "    x_all[0].append(mesh.points[node-1][1])\n",
    "    x_all[1].append(mesh.points[node-1][0])"
   ]
  },
  {
   "cell_type": "code",
   "execution_count": 14,
   "id": "46ae9e07",
   "metadata": {
    "executionInfo": {
     "elapsed": 2,
     "status": "ok",
     "timestamp": 1661745388132,
     "user": {
      "displayName": "Chukwume Ijeh",
      "userId": "15775749881944981513"
     },
     "user_tz": -60
    },
    "id": "46ae9e07"
   },
   "outputs": [],
   "source": [
    "# create the adjacency matrix to store connections\n",
    "adjacency_matrix = torch.eye(nonods)\n",
    "\n",
    "# populate the connections with a one \n",
    "for element in mesh.cells[0][1]:\n",
    "    for i in element:\n",
    "        for j in element:\n",
    "            if adjacency_matrix[i][j] != 1:\n",
    "                adjacency_matrix[i][j] = 1"
   ]
  },
  {
   "cell_type": "code",
   "execution_count": 15,
   "id": "c27ba77c",
   "metadata": {
    "executionInfo": {
     "elapsed": 2,
     "status": "ok",
     "timestamp": 1661745388133,
     "user": {
      "displayName": "Chukwume Ijeh",
      "userId": "15775749881944981513"
     },
     "user_tz": -60
    },
    "id": "c27ba77c"
   },
   "outputs": [],
   "source": [
    "# Get the indices for the nonzeros(nnzs) in the adjacency matrix\n",
    "a_indices = adjacency_matrix.nonzero().t().contiguous()"
   ]
  },
  {
   "cell_type": "code",
   "execution_count": 16,
   "id": "f2e69826",
   "metadata": {
    "executionInfo": {
     "elapsed": 2,
     "status": "ok",
     "timestamp": 1661745388464,
     "user": {
      "displayName": "Chukwume Ijeh",
      "userId": "15775749881944981513"
     },
     "user_tz": -60
    },
    "id": "f2e69826"
   },
   "outputs": [],
   "source": [
    "# Get the cola and fina lists for the sparse matrix\n",
    "cola = a_indices[1] + 1\n",
    "fina = np.zeros(nonods+1)\n",
    "fina_value = 1\n",
    "i=0\n",
    "\n",
    "for occurrence in torch.bincount(a_indices[0]):\n",
    "    fina[i] = fina_value\n",
    "    fina_value += occurrence.item()\n",
    "    i += 1\n",
    "fina[-1] = fina_value\n",
    "fina = fina.astype(int)\n",
    "# torch.bincount(torch.Tensor(adjacency_matrix).nonzero().t()[0])"
   ]
  },
  {
   "cell_type": "code",
   "execution_count": 17,
   "id": "151918b3",
   "metadata": {
    "executionInfo": {
     "elapsed": 2,
     "status": "ok",
     "timestamp": 1661745388793,
     "user": {
      "displayName": "Chukwume Ijeh",
      "userId": "15775749881944981513"
     },
     "user_tz": -60
    },
    "id": "151918b3"
   },
   "outputs": [],
   "source": [
    "# Get the number of nnzs\n",
    "ncola = cola.shape[0]"
   ]
  },
  {
   "cell_type": "code",
   "execution_count": 18,
   "id": "14e8d1ed",
   "metadata": {
    "executionInfo": {
     "elapsed": 2,
     "status": "ok",
     "timestamp": 1661745388794,
     "user": {
      "displayName": "Chukwume Ijeh",
      "userId": "15775749881944981513"
     },
     "user_tz": -60
    },
    "id": "14e8d1ed"
   },
   "outputs": [
    {
     "name": "stdout",
     "output_type": "stream",
     "text": [
      " going into get_shape_funs_with_faces\n",
      " just about to allocate\n",
      " nloc, sngi, ngi, ndim, nface,max_face_list_no:           3           2           3           2           3           2\n",
      " npoly,ele_type:           1         100\n",
      " here 1\n",
      " here 2\n",
      " here 3\n",
      " going into get_shape_funs ***is a triangle or tet\n",
      " out of get_shape_funs\n",
      " going into SPECTR\n",
      " just leaving spectr\n",
      " out of SPECTR\n",
      " going into SPECTR\n",
      " just leaving spectr\n",
      " out of SPECTR\n"
     ]
    }
   ],
   "source": [
    "a, b, ml = sf.get_fe_matrix_eqn(x_all= x_all, u=u, k=k, sig=sig, s=s, fina=fina, cola=cola, ncola=ncola, ndglno=ndglno, nonods=nonods, totele=totele,nloc=nloc, ndim=ndim, ele_type=100)"
   ]
  },
  {
   "cell_type": "code",
   "execution_count": 19,
   "id": "8e25a763",
   "metadata": {},
   "outputs": [
    {
     "name": "stdout",
     "output_type": "stream",
     "text": [
      "\u001b[31mWARN: Could not locate executable armflang\u001b[0m\r\n"
     ]
    }
   ],
   "source": [
    "#!python3 -m numpy.f2py -c --quiet 'shape_functions (31).f90' -m shape_functions0"
   ]
  },
  {
   "cell_type": "code",
   "execution_count": 20,
   "id": "02055e01",
   "metadata": {},
   "outputs": [],
   "source": [
    "import shape_functions as sff"
   ]
  },
  {
   "cell_type": "markdown",
   "id": "103c5eaa",
   "metadata": {
    "id": "103c5eaa"
   },
   "source": [
    "# Remove boundary nodes from a, b and ml"
   ]
  },
  {
   "cell_type": "code",
   "execution_count": 21,
   "id": "91a3fd2a",
   "metadata": {
    "executionInfo": {
     "elapsed": 3,
     "status": "ok",
     "timestamp": 1661745389616,
     "user": {
      "displayName": "Chukwume Ijeh",
      "userId": "15775749881944981513"
     },
     "user_tz": -60
    },
    "id": "91a3fd2a"
   },
   "outputs": [],
   "source": [
    "def get_boundary_nonboundary_nodes(mesh=mesh): \n",
    "    ''' Get boundary and non-boundary nodes of the mesh'''\n",
    "    \n",
    "    boundary_nodes = []\n",
    "    non_boundary_nodes = []\n",
    "    \n",
    "    x_min = mesh.points.transpose()[0].min()\n",
    "    x_max = mesh.points.transpose()[0].max()\n",
    "    y_min = mesh.points.transpose()[1].min()\n",
    "    y_max = mesh.points.transpose()[1].max()\n",
    "    for i in range(nonods):\n",
    "        if mesh.points.transpose()[0][i] == x_min or mesh.points.transpose()[0][i] == x_max or mesh.points.transpose()[1][i] == y_min or mesh.points.transpose()[1][i] == y_max:\n",
    "            boundary_nodes.append(i)\n",
    "        else:\n",
    "            non_boundary_nodes.append(i)\n",
    "    return boundary_nodes, non_boundary_nodes"
   ]
  },
  {
   "cell_type": "code",
   "execution_count": 22,
   "id": "77bae818",
   "metadata": {
    "executionInfo": {
     "elapsed": 2,
     "status": "ok",
     "timestamp": 1661745389956,
     "user": {
      "displayName": "Chukwume Ijeh",
      "userId": "15775749881944981513"
     },
     "user_tz": -60
    },
    "id": "77bae818"
   },
   "outputs": [],
   "source": [
    "# Get the boundary and non-boundary nodes. Works for rectangular meshes\n",
    "boundary_nodes = get_boundary_nonboundary_nodes()[0]\n",
    "non_boundary_nodes = get_boundary_nonboundary_nodes()[1]"
   ]
  },
  {
   "cell_type": "code",
   "execution_count": 23,
   "id": "ac5c9386",
   "metadata": {
    "executionInfo": {
     "elapsed": 2,
     "status": "ok",
     "timestamp": 1661745390206,
     "user": {
      "displayName": "Chukwume Ijeh",
      "userId": "15775749881944981513"
     },
     "user_tz": -60
    },
    "id": "ac5c9386"
   },
   "outputs": [],
   "source": [
    "# First, get a matrix\n",
    "a_sparse = torch.sparse_coo_tensor(a_indices, a, (nonods, nonods))"
   ]
  },
  {
   "cell_type": "code",
   "execution_count": 24,
   "id": "fcca7770",
   "metadata": {},
   "outputs": [],
   "source": [
    "# Get new number of nodes after removing boundary nodes\n",
    "new_nonods = nonods - len(boundary_nodes)"
   ]
  },
  {
   "cell_type": "code",
   "execution_count": 25,
   "id": "db82eb76",
   "metadata": {
    "scrolled": true
   },
   "outputs": [
    {
     "name": "stderr",
     "output_type": "stream",
     "text": [
      "/tmp/ipykernel_504/3372712247.py:9: UserWarning: Creating a tensor from a list of numpy.ndarrays is extremely slow. Please consider converting the list to a single numpy.ndarray with numpy.array() before converting to a tensor. (Triggered internally at  ../torch/csrc/utils/tensor_new.cpp:204.)\n",
      "  new_a_sparse = torch.sparse_coo_tensor(new_a_indices, new_a_values, (new_nonods,new_nonods))\n"
     ]
    }
   ],
   "source": [
    "# Remove boundary nodes from a_sparse\n",
    "# in a_sparse indices, find the indices that do not have a boundary node in its x and y axes\n",
    "mask = torch.bitwise_and(a_sparse.coalesce().indices()[0]>max(boundary_nodes), a_sparse.coalesce().indices()[1]>max(boundary_nodes))\n",
    "\n",
    "new_a_indices = [np.array(a_sparse.coalesce().indices()[0][mask] - (max(boundary_nodes) + 1)), np.array(a_sparse.coalesce().indices()[1][mask] - (max(boundary_nodes) + 1))]\n",
    "new_a_values = a_sparse.coalesce().values()[mask]\n",
    "\n",
    "# form sparse_a matrix \n",
    "new_a_sparse = torch.sparse_coo_tensor(new_a_indices, new_a_values, (new_nonods,new_nonods))"
   ]
  },
  {
   "cell_type": "code",
   "execution_count": 26,
   "id": "e19956f9",
   "metadata": {
    "executionInfo": {
     "elapsed": 2,
     "status": "ok",
     "timestamp": 1661745390207,
     "user": {
      "displayName": "Chukwume Ijeh",
      "userId": "15775749881944981513"
     },
     "user_tz": -60
    },
    "id": "e19956f9"
   },
   "outputs": [],
   "source": [
    "# Remove boundary nodes from b and ml\n",
    "new_b = np.delete(b, boundary_nodes, 0)\n",
    "new_ml = np.delete(ml, boundary_nodes, 0)"
   ]
  },
  {
   "cell_type": "markdown",
   "id": "ka06t6B4mQLy",
   "metadata": {
    "id": "ka06t6B4mQLy"
   },
   "source": [
    "\n",
    "# Scale a, b, ml for original mesh"
   ]
  },
  {
   "cell_type": "code",
   "execution_count": 27,
   "id": "673c58d2",
   "metadata": {
    "executionInfo": {
     "elapsed": 3,
     "status": "ok",
     "timestamp": 1661745391315,
     "user": {
      "displayName": "Chukwume Ijeh",
      "userId": "15775749881944981513"
     },
     "user_tz": -60
    },
    "id": "673c58d2"
   },
   "outputs": [],
   "source": [
    "# convert new ml to sparse and get ml_inv as well\n",
    "indices_ml_new = torch.zeros((2,new_nonods))\n",
    "for i in range(new_nonods):\n",
    "    indices_ml_new[0][i] = i\n",
    "    indices_ml_new[1][i] = i\n",
    "\n",
    "indices_ml_new = indices_ml_new.int()\n",
    "\n",
    "new_ml_sparse = torch.sparse_coo_tensor(indices_ml_new, new_ml, (new_nonods,new_nonods))\n",
    "\n",
    "new_ml_sparse_inv = torch.sparse_coo_tensor(indices_ml_new, 1/new_ml, (new_nonods,new_nonods))"
   ]
  },
  {
   "cell_type": "code",
   "execution_count": 28,
   "id": "f3f927a1",
   "metadata": {
    "executionInfo": {
     "elapsed": 2,
     "status": "ok",
     "timestamp": 1661745391571,
     "user": {
      "displayName": "Chukwume Ijeh",
      "userId": "15775749881944981513"
     },
     "user_tz": -60
    },
    "id": "f3f927a1"
   },
   "outputs": [],
   "source": [
    "# simply divide new_a_sparse and new_b by new_ml\n",
    "if scale_matrices == True:\n",
    "    new_a_sparse = torch.sparse.mm(new_ml_sparse_inv, new_a_sparse)\n",
    "    new_b = new_b/new_ml"
   ]
  },
  {
   "cell_type": "markdown",
   "id": "PHZMle6MUXFr",
   "metadata": {
    "id": "PHZMle6MUXFr"
   },
   "source": [
    "# Get both SFC matrices for all levels"
   ]
  },
  {
   "cell_type": "code",
   "execution_count": 29,
   "id": "f31699c1",
   "metadata": {
    "executionInfo": {
     "elapsed": 2,
     "status": "ok",
     "timestamp": 1661745392713,
     "user": {
      "displayName": "Chukwume Ijeh",
      "userId": "15775749881944981513"
     },
     "user_tz": -60
    },
    "id": "f31699c1"
   },
   "outputs": [],
   "source": [
    "# Get new fina and cola values\n",
    "cola = new_a_indices[1] + 1\n",
    "fina = np.zeros(new_nonods+1)\n",
    "fina_value = 1\n",
    "i=0\n",
    "\n",
    "for occurrence in np.bincount(new_a_indices[0]):\n",
    "    fina[i] = fina_value\n",
    "    fina_value += occurrence.item()\n",
    "    i += 1\n",
    "fina[-1] = fina_value\n",
    "fina = fina.astype(int)\n",
    "\n",
    "ncola = cola.shape[0]"
   ]
  },
  {
   "cell_type": "code",
   "execution_count": 30,
   "id": "bba9a03c",
   "metadata": {
    "executionInfo": {
     "elapsed": 3,
     "status": "ok",
     "timestamp": 1661745393038,
     "user": {
      "displayName": "Chukwume Ijeh",
      "userId": "15775749881944981513"
     },
     "user_tz": -60
    },
    "id": "bba9a03c"
   },
   "outputs": [],
   "source": [
    "ncurve = 2 # number of sfcs\n",
    "graph_trim = -10  # has always been set at -10\n",
    "starting_node = 0"
   ]
  },
  {
   "cell_type": "code",
   "execution_count": 31,
   "id": "b6abf6ac",
   "metadata": {
    "executionInfo": {
     "elapsed": 2,
     "status": "ok",
     "timestamp": 1661745393038,
     "user": {
      "displayName": "Chukwume Ijeh",
      "userId": "15775749881944981513"
     },
     "user_tz": -60
    },
    "id": "b6abf6ac"
   },
   "outputs": [],
   "source": [
    "# Generate the two SFCs and get new orderings of nodes\n",
    "whichd, space_filling_curve_numbering = sfc.ncurve_python_subdomain_space_filling_curve(cola, fina, starting_node, graph_trim, ncurve, new_nonods, ncola)"
   ]
  },
  {
   "cell_type": "code",
   "execution_count": 32,
   "id": "0e8b0a4a",
   "metadata": {
    "executionInfo": {
     "elapsed": 2,
     "status": "ok",
     "timestamp": 1661745393338,
     "user": {
      "displayName": "Chukwume Ijeh",
      "userId": "15775749881944981513"
     },
     "user_tz": -60
    },
    "id": "0e8b0a4a"
   },
   "outputs": [],
   "source": [
    "N = len(space_filling_curve_numbering)\n",
    "inverse_numbering = np.zeros((N, ncurve), dtype=int)\n",
    "\n",
    "# inverse numbering - used to put the nodes in sfc ordering \n",
    "inverse_numbering[:, 0] = np.argsort(space_filling_curve_numbering[:, 0])\n",
    "inverse_numbering[:, 1] = np.argsort(space_filling_curve_numbering[:, 1])"
   ]
  },
  {
   "cell_type": "code",
   "execution_count": 33,
   "id": "ba0a69ad",
   "metadata": {
    "executionInfo": {
     "elapsed": 2,
     "status": "ok",
     "timestamp": 1661745393853,
     "user": {
      "displayName": "Chukwume Ijeh",
      "userId": "15775749881944981513"
     },
     "user_tz": -60
    },
    "id": "ba0a69ad"
   },
   "outputs": [],
   "source": [
    "# variables needed to get the agglomeration of the mesh\n",
    "max_nlevel = sf.calculate_nlevel_sfc(new_nonods) + 1\n",
    "max_nonods_sfc_all_grids = 4*new_nonods"
   ]
  },
  {
   "cell_type": "code",
   "execution_count": 34,
   "id": "6fe4848a",
   "metadata": {
    "executionInfo": {
     "elapsed": 3,
     "status": "ok",
     "timestamp": 1661745394061,
     "user": {
      "displayName": "Chukwume Ijeh",
      "userId": "15775749881944981513"
     },
     "user_tz": -60
    },
    "id": "6fe4848a"
   },
   "outputs": [
    {
     "name": "stdout",
     "output_type": "stream",
     "text": [
      " 2-just inside best_sfc_mapping_to_sfc_matrix_n\n",
      " here 2\n",
      " just leaving best_sfc_mapping_to_sfc_matrix_n\n",
      " 2-just inside best_sfc_mapping_to_sfc_matrix_n\n",
      " here 2\n",
      " just leaving best_sfc_mapping_to_sfc_matrix_n\n"
     ]
    }
   ],
   "source": [
    "# Get the two node orderings based on the two SFCs\n",
    "a_sfc_1, b_sfc_1, ml_sfc_1, fin_sfc_nonods, nonods_sfc_all_grids, nlevel = sff.best_sfc_mapping_to_sfc_matrix_n(a=new_a_values, b=new_b, ml=new_ml, fina=fina, cola=cola, sfc_node_ordering=space_filling_curve_numbering[:, 0], ncola=ncola, nonods=new_nonods, max_nonods_sfc_all_grids=max_nonods_sfc_all_grids, max_nlevel=max_nlevel, relax_keep_off=relax_keep_off, nfilt_size_sfc=nfilt_size_sfc)\n",
    "a_sfc_2, b_sfc_2, ml_sfc_2, _, _, _ = sff.best_sfc_mapping_to_sfc_matrix_n(a=new_a_values, b=new_b, ml=new_ml, fina=fina, cola=cola, sfc_node_ordering=space_filling_curve_numbering[:, 1], ncola=ncola, nonods=new_nonods, max_nonods_sfc_all_grids=max_nonods_sfc_all_grids, max_nlevel=max_nlevel, relax_keep_off=relax_keep_off, nfilt_size_sfc=nfilt_size_sfc)"
   ]
  },
  {
   "cell_type": "code",
   "execution_count": 35,
   "id": "0b16328b",
   "metadata": {
    "executionInfo": {
     "elapsed": 2,
     "status": "ok",
     "timestamp": 1661745394320,
     "user": {
      "displayName": "Chukwume Ijeh",
      "userId": "15775749881944981513"
     },
     "user_tz": -60
    },
    "id": "0b16328b"
   },
   "outputs": [],
   "source": [
    "#Store in lists for later access\n",
    "a_sfc = [torch.Tensor(a_sfc_1), torch.Tensor(a_sfc_2)]\n",
    "b_sfc = [torch.Tensor(b_sfc_1), torch.Tensor(b_sfc_2)]\n",
    "ml_sfc = [torch.Tensor(ml_sfc_1), torch.Tensor(ml_sfc_2)]"
   ]
  },
  {
   "cell_type": "markdown",
   "id": "R_CXkPyjOcOw",
   "metadata": {
    "id": "R_CXkPyjOcOw"
   },
   "source": [
    "# Get SFC matrices and vectors in each level"
   ]
  },
  {
   "cell_type": "code",
   "execution_count": 36,
   "id": "f673eb46",
   "metadata": {
    "executionInfo": {
     "elapsed": 2,
     "status": "ok",
     "timestamp": 1661745394769,
     "user": {
      "displayName": "Chukwume Ijeh",
      "userId": "15775749881944981513"
     },
     "user_tz": -60
    },
    "id": "f673eb46"
   },
   "outputs": [],
   "source": [
    "def get_a_ml_b(level, curve, fin_sfc_nonods=fin_sfc_nonods, a_sfc=a_sfc, b_sfc=b_sfc, ml_sfc=ml_sfc, nfilt_size_sfc=nfilt_size_sfc, scale_matrices=scale_matrices):\n",
    "    '''Function to get a, b ml and ml inverse in sfc ordering for each level as sparse matrices\n",
    "    \n",
    "    \n",
    "        level: Level to get sfc ordering starting from 0 as the first\n",
    "        curve: the sfc curve to consider\n",
    "        fin_sfc_nonods: List containing the starting index in a_sfc of each level\n",
    "        a_sfc = list containing a_sfcs in different orders\n",
    "        b_sfc = list containing b_sfcs in different orders\n",
    "        ml_sfc = list containing ml_sfcs in different orders\n",
    "    '''\n",
    "    # level 0 is the highest level\n",
    "    # level nlevel-1 is the lowest level\n",
    "    # subtracting 1 because fortran indexes from 1 but python indexes from 0\n",
    "    start_index = fin_sfc_nonods[level] - 1\n",
    "    end_index = fin_sfc_nonods[level + 1] - 1\n",
    "    \n",
    "    nonods = end_index - start_index\n",
    "    \n",
    "#--------------------------------------------- get a_sfc_level------------------------------------------------------------#\n",
    "    # find the diag index\n",
    "    diag_index = int(nfilt_size_sfc/2)\n",
    "    \n",
    "    # main diagonal \n",
    "    diagonal = a_sfc[curve][diag_index][start_index:end_index]\n",
    "    a_sfc_level = torch.diag(diagonal)\n",
    "    \n",
    "    #------------ accounting for bigger filter sizes -----------------#\n",
    "    for i in range(nfilt_size_sfc):\n",
    "        if i < diag_index:\n",
    "            if start_index+(diag_index-i) > end_index:\n",
    "                continue\n",
    "            a_sfc_level += torch.diag(a_sfc[curve][i][start_index+(diag_index-i):end_index], diagonal=i-diag_index)\n",
    "        elif i > diag_index:\n",
    "            if start_index > end_index-(i-diag_index):\n",
    "                continue\n",
    "            a_sfc_level += torch.diag(a_sfc[curve][i][start_index:end_index-(i-diag_index)], diagonal=i-diag_index)\n",
    "            \n",
    "    \n",
    "    #----------- convert a_sfc_level to sparse --------------#\n",
    "    # get indices\n",
    "    a_sfc_level_indices = a_sfc_level.nonzero().t()\n",
    "    # get values\n",
    "    a_sfc_level_values = a_sfc_level[a_sfc_level_indices[0], a_sfc_level_indices[1]]\n",
    "    \n",
    "    a_sfc_level_sparse = torch.sparse_coo_tensor(a_sfc_level_indices, a_sfc_level_values, (nonods, nonods))\n",
    "    \n",
    "    \n",
    "    \n",
    "    #-----------get ml_sfc_level and its inverse and convert to sparse ----------#\n",
    "    ml_sfc_level = ml_sfc[curve][start_index:end_index]\n",
    "\n",
    "    #indices\n",
    "    ml_sfc_level_indices = torch.zeros((2,nonods))\n",
    "    ml_sfc_level_indices[0] = torch.Tensor([i for i in range(nonods)])\n",
    "    ml_sfc_level_indices[1] = ml_sfc_level_indices[0]\n",
    "    ml_sfc_level_indices = ml_sfc_level_indices.int()\n",
    "\n",
    "    # convert to sparse\n",
    "    ml_sfc_level_sparse = torch.sparse_coo_tensor(ml_sfc_level_indices, ml_sfc_level, (nonods, nonods))\n",
    "    # inverse\n",
    "    # ml_inv is just an identity matrix\n",
    "    ml_sfc_level_sparse_inv = torch.sparse_coo_tensor(ml_sfc_level_indices, 1/ml_sfc_level, (nonods, nonods))\n",
    "    \n",
    "    \n",
    "    #---------------------------- get b_sfc -------------------------------------#\n",
    "    b_sfc_level = b_sfc[curve][start_index:end_index]\n",
    "    \n",
    "\n",
    "    #----------------------- Divide each one by ml_sfc_level --------------------#\n",
    "    if scale_matrices == True: # Scale the matrices by the lumped mass matrix\n",
    "        a_sfc_level_sparse = torch.sparse.mm(ml_sfc_level_sparse_inv, a_sfc_level_sparse)\n",
    "        b_sfc_level = b_sfc_level/ml_sfc_level\n",
    "    \n",
    "    return a_sfc_level_sparse, b_sfc_level, diagonal, nonods"
   ]
  },
  {
   "cell_type": "code",
   "execution_count": 37,
   "id": "939bd903",
   "metadata": {
    "executionInfo": {
     "elapsed": 2,
     "status": "ok",
     "timestamp": 1661745395106,
     "user": {
      "displayName": "Chukwume Ijeh",
      "userId": "15775749881944981513"
     },
     "user_tz": -60
    },
    "id": "939bd903"
   },
   "outputs": [],
   "source": [
    "# Store variables in list for later access\n",
    "# variables_first_sfc[0][0] - a_sfc for level 0 in first sfc\n",
    "# variables_first_sfc[0][1] - b_sfc for level 0 in first sfc\n",
    "# variables_first_sfc[0][2] - diagonal for level 0 in first sfc\n",
    "# variables_first_sfc[0][3] - nonods for level 0 in first sfc\n",
    "\n",
    "levels = [level for level in range(nlevel)]\n",
    "\n",
    "# ------------------------------- FIRST CURVE -----------------------------#\n",
    "iteration_0 = [0]*nlevel\n",
    "variables_first_sfc = list(map(get_a_ml_b, levels, iteration_0))\n",
    "\n",
    "\n",
    "# ------------------------------- SECOND CURVE -----------------------------#\n",
    "iteration_1 = [1]*nlevel\n",
    "variables_second_sfc = list(map(get_a_ml_b, levels, iteration_1))\n",
    "\n",
    "# save in list/tensor (which is faster?)\n",
    "variables_sfc = [variables_first_sfc, variables_second_sfc]"
   ]
  },
  {
   "cell_type": "markdown",
   "id": "nKuweZGsU_X7",
   "metadata": {
    "id": "nKuweZGsU_X7"
   },
   "source": [
    "# Jacobi Matrix"
   ]
  },
  {
   "cell_type": "code",
   "execution_count": 38,
   "id": "d3a6f3dd",
   "metadata": {
    "executionInfo": {
     "elapsed": 3,
     "status": "ok",
     "timestamp": 1661745395659,
     "user": {
      "displayName": "Chukwume Ijeh",
      "userId": "15775749881944981513"
     },
     "user_tz": -60
    },
    "id": "d3a6f3dd"
   },
   "outputs": [],
   "source": [
    "class CNN1D_A(nn.Module):\n",
    "    def __init__(self):\n",
    "        super(CNN1D_A, self).__init__()\n",
    "    \n",
    "    def forward(self, level, curve, Tn, variables_sfc=variables_sfc):\n",
    "        '''Convolutional Neural Network to multiply the scalar field by the scaled FEM matrix\n",
    "        \n",
    "        Input\n",
    "        ----------------------------------------------------------------------------------------------\n",
    "        level: Grid level of the agglomerated mesh. Level 0 is the finest grid and level nlevel-1 is the lowest grid with nonods=1\n",
    "        curve: The SFC curve to consider; 0 or 1\n",
    "        Tn: The current scalar field\n",
    "        variables_sfc: List that contains the a, b, diagonal weights in a and nonods in specified level for both SFCs\n",
    "        \n",
    "        Output\n",
    "        ----------------------------------------------------------------------------------------------\n",
    "        Tn_1: The next solution of the scalar field\n",
    "        \n",
    "        '''\n",
    "\n",
    "        #------------------------get a_sfc and ml_sfc for this level and curve----------------------#\n",
    "        a_sfc_sparse, b_sfc_level, diag_weights, nonods_level = variables_sfc[curve][level]\n",
    "        \n",
    "        #----------------------------------timestep-------------------------------------------------#\n",
    "        Tn_1 = torch.sparse.mm(a_sfc_sparse, Tn.view(nonods_level,1))\n",
    "            \n",
    "        return Tn_1.view(1,1,nonods_level), diag_weights.view(1,1,nonods_level)"
   ]
  },
  {
   "cell_type": "markdown",
   "id": "ISUoylzOpNUL",
   "metadata": {
    "id": "ISUoylzOpNUL"
   },
   "source": [
    "# Check the agglomeration of the mesh"
   ]
  },
  {
   "cell_type": "code",
   "execution_count": 39,
   "id": "BawKEdXxpRzz",
   "metadata": {
    "executionInfo": {
     "elapsed": 2,
     "status": "ok",
     "timestamp": 1661745395952,
     "user": {
      "displayName": "Chukwume Ijeh",
      "userId": "15775749881944981513"
     },
     "user_tz": -60
    },
    "id": "BawKEdXxpRzz"
   },
   "outputs": [],
   "source": [
    "nodes_per_level = [fin_sfc_nonods[i] - fin_sfc_nonods[i-1] for i in range(1, nlevel+1)]"
   ]
  },
  {
   "cell_type": "code",
   "execution_count": 40,
   "id": "ZDI0BkdMAJff",
   "metadata": {
    "colab": {
     "base_uri": "https://localhost:8080/"
    },
    "executionInfo": {
     "elapsed": 4,
     "status": "ok",
     "timestamp": 1661745396521,
     "user": {
      "displayName": "Chukwume Ijeh",
      "userId": "15775749881944981513"
     },
     "user_tz": -60
    },
    "id": "ZDI0BkdMAJff",
    "outputId": "6ef7965c-193d-44d4-e8d8-4d3529c53c47"
   },
   "outputs": [
    {
     "data": {
      "text/plain": [
       "(14, [4631, 2316, 1158, 579, 290, 145, 73, 37, 19, 10, 5, 3, 2, 1])"
      ]
     },
     "execution_count": 40,
     "metadata": {},
     "output_type": "execute_result"
    }
   ],
   "source": [
    "nlevel, nodes_per_level"
   ]
  },
  {
   "cell_type": "markdown",
   "id": "f4e03d41",
   "metadata": {
    "id": "f4e03d41"
   },
   "source": [
    "# Restrictor"
   ]
  },
  {
   "cell_type": "code",
   "execution_count": 41,
   "id": "3831c1eb",
   "metadata": {
    "executionInfo": {
     "elapsed": 224,
     "status": "ok",
     "timestamp": 1661745397910,
     "user": {
      "displayName": "Chukwume Ijeh",
      "userId": "15775749881944981513"
     },
     "user_tz": -60
    },
    "id": "3831c1eb"
   },
   "outputs": [],
   "source": [
    "# Two restrictors will be used\n",
    "# for levels that can be divided by 2\n",
    "CNN1D_res = nn.Conv1d(1, 1, kernel_size=2, stride=2, padding='valid', bias=False) \n",
    "filter_ = torch.Tensor([[0.5, 0.5]]).float().view(1, 1, 2) \n",
    "CNN1D_res.weight.data = filter_\n",
    "\n",
    "# for levels that cannot\n",
    "CNN1D_res_odd = nn.Conv1d(1, 1, kernel_size=2, stride=2, padding=0, bias=False)\n",
    "filter_odd = torch.Tensor([[0.5, 0.5]]).float().view(1, 1, 2) \n",
    "CNN1D_res_odd.weight.data = filter_odd"
   ]
  },
  {
   "cell_type": "code",
   "execution_count": 42,
   "id": "36d7bdb2",
   "metadata": {},
   "outputs": [],
   "source": [
    "# if theres an odd number in the agglomeration of the mesh, use CNN1D_res_odd through out, if not, use CNN1D_res\n",
    "odd_meshes = False\n",
    "\n",
    "for i in range(nlevel-1):\n",
    "    if nodes_per_level[i]%2 == 1:\n",
    "        odd_meshes = True\n",
    "        break"
   ]
  },
  {
   "cell_type": "code",
   "execution_count": 43,
   "id": "88acfcab",
   "metadata": {},
   "outputs": [
    {
     "data": {
      "text/plain": [
       "True"
      ]
     },
     "execution_count": 43,
     "metadata": {},
     "output_type": "execute_result"
    }
   ],
   "source": [
    "odd_meshes"
   ]
  },
  {
   "cell_type": "markdown",
   "id": "a476a1a2",
   "metadata": {
    "id": "a476a1a2"
   },
   "source": [
    "# Prolongator"
   ]
  },
  {
   "cell_type": "code",
   "execution_count": 44,
   "id": "12250e2d",
   "metadata": {
    "executionInfo": {
     "elapsed": 3,
     "status": "ok",
     "timestamp": 1661745398728,
     "user": {
      "displayName": "Chukwume Ijeh",
      "userId": "15775749881944981513"
     },
     "user_tz": -60
    },
    "id": "12250e2d"
   },
   "outputs": [],
   "source": [
    "CNN1D_prol = nn.Upsample(scale_factor=2)"
   ]
  },
  {
   "cell_type": "markdown",
   "id": "c6a5843c",
   "metadata": {
    "id": "c6a5843c"
   },
   "source": [
    "# Initial Condition"
   ]
  },
  {
   "cell_type": "code",
   "execution_count": 45,
   "id": "f8b4981d",
   "metadata": {},
   "outputs": [],
   "source": [
    "values = torch.zeros(nonods)"
   ]
  },
  {
   "cell_type": "code",
   "execution_count": 46,
   "id": "6b9c9603",
   "metadata": {
    "executionInfo": {
     "elapsed": 5,
     "status": "ok",
     "timestamp": 1661745399414,
     "user": {
      "displayName": "Chukwume Ijeh",
      "userId": "15775749881944981513"
     },
     "user_tz": -60
    },
    "id": "6b9c9603"
   },
   "outputs": [],
   "source": [
    "# for 64 x 64 2D mesh\n",
    "new_arrangement_y = np.argsort(mesh.points.transpose()[0])\n",
    "for i in range(new_arrangement_y.shape[0]-4000, new_arrangement_y.shape[0]-3000):\n",
    "    node = new_arrangement_y[i]\n",
    "    values[node] = 1\n",
    "\n",
    "# for 32 x 32\n",
    "# new_arrangement_y = np.argsort(mesh.points.transpose()[0])\n",
    "# for i in range(new_arrangement_y.shape[0]-1000, new_arrangement_y.shape[0]-800):\n",
    "#     node = new_arrangement_y[i]\n",
    "#     values[node] = 1"
   ]
  },
  {
   "cell_type": "code",
   "execution_count": 47,
   "id": "880b0c86",
   "metadata": {},
   "outputs": [],
   "source": [
    "# for 64 x 64 2D mesh\n",
    "new_arrangement_x = np.argsort(mesh.points.transpose()[1])\n",
    "for i in range(new_arrangement_x.shape[0]-3500, new_arrangement_x.shape[0]):\n",
    "    node = new_arrangement_x[i]\n",
    "    values[node] = 0\n",
    "\n",
    "for i in range(500):\n",
    "    node = new_arrangement_x[i]\n",
    "    values[node] = 0\n",
    "\n",
    "# for 32 x 32 2D mesh\n",
    "# new_arrangement_x = np.argsort(mesh.points.transpose()[1])\n",
    "# for i in range(new_arrangement_x.shape[0]-500, new_arrangement_x.shape[0]):\n",
    "#     node = new_arrangement_x[i]\n",
    "#     values[node] = 0\n",
    "\n",
    "# for i in range(500):\n",
    "#     node = new_arrangement_x[i]\n",
    "#     values[node] = 0"
   ]
  },
  {
   "cell_type": "code",
   "execution_count": 48,
   "id": "40608427",
   "metadata": {
    "colab": {
     "base_uri": "https://localhost:8080/",
     "height": 286
    },
    "executionInfo": {
     "elapsed": 371,
     "status": "ok",
     "timestamp": 1661745399781,
     "user": {
      "displayName": "Chukwume Ijeh",
      "userId": "15775749881944981513"
     },
     "user_tz": -60
    },
    "id": "40608427",
    "outputId": "b7351b3e-140e-448d-f763-c91a01a46edc",
    "scrolled": false
   },
   "outputs": [
    {
     "data": {
      "image/png": "[encoded data removed]",
      "text/plain": [
       "<PIL.Image.Image image mode=RGB size=1024x768>"
      ]
     },
     "metadata": {},
     "output_type": "display_data"
    },
    {
     "data": {
      "text/plain": [
       "[<matplotlib.lines.Line2D at 0x7f7f3774bbe0>]"
      ]
     },
     "execution_count": 48,
     "metadata": {},
     "output_type": "execute_result"
    },
    {
     "data": {
      "image/png": "[encoded data removed]",
      "text/plain": [
       "<Figure size 432x288 with 1 Axes>"
      ]
     },
     "metadata": {
      "needs_background": "light"
     },
     "output_type": "display_data"
    }
   ],
   "source": [
    "# New plot\n",
    "mesh.point_data = {'Concentration': values}\n",
    "mesh.plot(notebook=True, cpos='xy', clim=[0,1], style='surface', jupyter_backend='static')\n",
    "plt.plot(values[:])"
   ]
  },
  {
   "cell_type": "code",
   "execution_count": 49,
   "id": "3ebd1804",
   "metadata": {
    "executionInfo": {
     "elapsed": 6,
     "status": "ok",
     "timestamp": 1661745399782,
     "user": {
      "displayName": "Chukwume Ijeh",
      "userId": "15775749881944981513"
     },
     "user_tz": -60
    },
    "id": "3ebd1804"
   },
   "outputs": [],
   "source": [
    "new_values = torch.Tensor(np.delete(values, boundary_nodes, 0)).view(1,1,new_nonods)"
   ]
  },
  {
   "cell_type": "code",
   "execution_count": 50,
   "id": "2f501ed9",
   "metadata": {
    "colab": {
     "base_uri": "https://localhost:8080/",
     "height": 286
    },
    "executionInfo": {
     "elapsed": 430,
     "status": "ok",
     "timestamp": 1661745400697,
     "user": {
      "displayName": "Chukwume Ijeh",
      "userId": "15775749881944981513"
     },
     "user_tz": -60
    },
    "id": "2f501ed9",
    "outputId": "54df7d82-0c22-4399-98d6-47eb12df4721",
    "scrolled": true
   },
   "outputs": [
    {
     "data": {
      "text/plain": [
       "[<matplotlib.lines.Line2D at 0x7f7f377353d0>]"
      ]
     },
     "execution_count": 50,
     "metadata": {},
     "output_type": "execute_result"
    },
    {
     "data": {
      "image/png": "[encoded data removed]",
      "text/plain": [
       "<Figure size 432x288 with 1 Axes>"
      ]
     },
     "metadata": {
      "needs_background": "light"
     },
     "output_type": "display_data"
    }
   ],
   "source": [
    "plt.plot(new_values[0,0,:])"
   ]
  },
  {
   "cell_type": "markdown",
   "id": "1210718c",
   "metadata": {
    "id": "1210718c"
   },
   "source": [
    "# Multigrid with skipping layer"
   ]
  },
  {
   "cell_type": "code",
   "execution_count": 51,
   "id": "jQDEfmLAjaPF",
   "metadata": {
    "executionInfo": {
     "elapsed": 4,
     "status": "ok",
     "timestamp": 1661745400875,
     "user": {
      "displayName": "Chukwume Ijeh",
      "userId": "15775749881944981513"
     },
     "user_tz": -60
    },
    "id": "jQDEfmLAjaPF"
   },
   "outputs": [],
   "source": [
    "# Convert b to tensor and reshape\n",
    "new_b = torch.Tensor(new_b).view(1,1,new_nonods)"
   ]
  },
  {
   "cell_type": "code",
   "execution_count": 52,
   "id": "e3df7ad3",
   "metadata": {
    "colab": {
     "base_uri": "https://localhost:8080/"
    },
    "executionInfo": {
     "elapsed": 497,
     "status": "ok",
     "timestamp": 1661738328882,
     "user": {
      "displayName": "Chukwume Ijeh",
      "userId": "15775749881944981513"
     },
     "user_tz": -60
    },
    "id": "e3df7ad3",
    "outputId": "27352f88-f2bd-456b-bb23-720b9010291f"
   },
   "outputs": [
    {
     "name": "stdout",
     "output_type": "stream",
     "text": [
      "Computational time(s): 68.9338788986206\n",
      "Time steps: 1\n",
      "Multigrid iterations: 100\n",
      "Jacobi iterations: 1\n"
     ]
    }
   ],
   "source": [
    "start = time.time()\n",
    "\n",
    "multi_itr = 100        # multigrid iteration\n",
    "\n",
    "# List to store w for each iteration\n",
    "# results_to_csv = np.zeros((multi_itr,2))\n",
    "\n",
    "\n",
    "j_itr = 1             # jacobi iteration \n",
    "ntime = 1             # number of timesteps\n",
    "with torch.no_grad():\n",
    "    \n",
    "    model = CNN1D_A().to(device)\n",
    "    \n",
    "    for multi_grid in range(multi_itr):\n",
    "        \n",
    "      # for each multigrid iteration, you alternate between two sfcs\n",
    "        for curve in range(ncurve):\n",
    "            # initialize w\n",
    "            w = torch.zeros([1,1,1])\n",
    "\n",
    "# --------- Calculate Residual based on initial guess -----------------------------------------------------------#\n",
    "            r = new_b - (torch.sparse.mm(new_a_sparse, new_values.view(new_nonods,1))).view(1,1,new_nonods)\n",
    "    \n",
    "            # Map residual to sfc ordering\n",
    "            r = torch.Tensor([r[0][0][i] for i in inverse_numbering[:, curve]]).view(1,1,new_nonods)\n",
    "          \n",
    "#----------------------------------------------------------------------------------------------------------------#\n",
    "#--------- Interpolate Residual from finer to coaser mesh -------------------------------------------------------#\n",
    "            r_s = []\n",
    "    \n",
    "            #append residual for finest mesh - initial residual\n",
    "            r_s.append(r)\n",
    "          \n",
    "            if odd_meshes == True:\n",
    "                for i in range(1, nlevel):            \n",
    "                    r = F.pad(r, (0,1))\n",
    "                    r = CNN1D_res_odd(r)\n",
    "                    r_s.append(r)\n",
    "            else:\n",
    "                for i in range(1, nlevel):    \n",
    "                    r = CNN1D_res(r)\n",
    "                    r_s.append(r)\n",
    "                \n",
    "#----------------------------------------------------------------------------------------------------------------#   \n",
    "\n",
    "#---------- Interpolate Residual from coaser to finer mesh ------------------------------------------------------#\n",
    "            for i in reversed(range(lvl_start_jac, nlevel)): # Eg, 14,13,12...1. Do not include the finest level\n",
    "                for Jacobi in range(j_itr):\n",
    "                    w = w - alpha*(model(i, curve, w)[0]/model(i, curve, w)[1]) + alpha*(r_s[i]/model(i, curve, w)[1])\n",
    "                    \n",
    "                    if i != 0: # Do not prolongate on the last grid\n",
    "                        CNN1D_prol_odd = nn.Upsample(scale_factor=nodes_per_level[i-1]/nodes_per_level[i])\n",
    "                        w = CNN1D_prol_odd(w)\n",
    "\n",
    "            # Map w to original order\n",
    "            w = torch.Tensor([w[0][0][i-1] for i in space_filling_curve_numbering[:, curve]]).view(1,1,new_nonods)\n",
    "\n",
    "            # Put r_s[0] in original order as well\n",
    "            r_s[0] = torch.Tensor([r_s[0][0][0][i-1] for i in space_filling_curve_numbering[:, curve]]).view(1,1,new_nonods)\n",
    "        \n",
    "\n",
    "#-----------Perform Jacobi relaxation on finest mesh using original residual ----------------------------------------#\n",
    "            A_ = (torch.sparse.mm(new_a_sparse, w.view(new_nonods,1))).view(1,1,new_nonods)\n",
    "            d = torch.Tensor([new_a_sparse[i][i].item() for i in range(new_nonods)]).view(1,1,new_nonods)\n",
    "            w = w - alpha*(A_/d) + alpha*(r_s[0]/d)\n",
    "\n",
    "            # Then add w to new_values\n",
    "            new_values = new_values + w\n",
    "        \n",
    "#---------------------------------------------------------------------------------------------------------------# \n",
    "            # Save result to csv\n",
    "            # results_to_csv[multi_grid][0] = int(multi_grid)\n",
    "            # results_to_csv[multi_grid][1] = w[0,0,:].max()\n",
    "            # np.savetxt(\"64_unstructured_corrections.csv\", results_to_csv, delimiter=\",\")\n",
    "    \n",
    "    \n",
    "end = time.time()\n",
    "print('Computational time(s):',(end-start))\n",
    "print('Time steps:', ntime)\n",
    "print('Multigrid iterations:', multi_itr)\n",
    "print('Jacobi iterations:', j_itr)"
   ]
  },
  {
   "cell_type": "markdown",
   "id": "92e17079",
   "metadata": {},
   "source": [
    "# Residuals"
   ]
  },
  {
   "cell_type": "code",
   "execution_count": 53,
   "id": "423ded50",
   "metadata": {
    "scrolled": true
   },
   "outputs": [
    {
     "data": {
      "text/plain": [
       "([<matplotlib.lines.Line2D at 0x7f7f3769aeb0>], tensor(0.0002))"
      ]
     },
     "execution_count": 53,
     "metadata": {},
     "output_type": "execute_result"
    },
    {
     "data": {
      "image/png": "[encoded data removed]",
      "text/plain": [
       "<Figure size 432x288 with 1 Axes>"
      ]
     },
     "metadata": {
      "needs_background": "light"
     },
     "output_type": "display_data"
    }
   ],
   "source": [
    "plt.plot(w[0,0,:]), w[0,0,:].max()"
   ]
  },
  {
   "cell_type": "markdown",
   "id": "6d060dc0",
   "metadata": {},
   "source": [
    "# Add boundary nodes to result"
   ]
  },
  {
   "cell_type": "code",
   "execution_count": 54,
   "id": "d75c99eb",
   "metadata": {},
   "outputs": [],
   "source": [
    "combined_values = torch.zeros(nonods)\n",
    "for i in range(new_nonods):\n",
    "    non_boundary_node = non_boundary_nodes[i]\n",
    "    combined_values[non_boundary_node] = new_values.view(new_nonods)[i]"
   ]
  },
  {
   "cell_type": "markdown",
   "id": "d9753574",
   "metadata": {},
   "source": [
    "# Result"
   ]
  },
  {
   "cell_type": "code",
   "execution_count": 55,
   "id": "slHKU8J2dQsd",
   "metadata": {
    "colab": {
     "base_uri": "https://localhost:8080/",
     "height": 578
    },
    "executionInfo": {
     "elapsed": 325,
     "status": "ok",
     "timestamp": 1661738240947,
     "user": {
      "displayName": "Chukwume Ijeh",
      "userId": "15775749881944981513"
     },
     "user_tz": -60
    },
    "id": "slHKU8J2dQsd",
    "outputId": "0392b748-3301-40b9-ce1b-31ad33a7564d",
    "scrolled": false
   },
   "outputs": [
    {
     "data": {
      "image/png": "[encoded data removed]",
      "text/plain": [
       "<PIL.Image.Image image mode=RGB size=1024x768>"
      ]
     },
     "metadata": {},
     "output_type": "display_data"
    },
    {
     "data": {
      "text/plain": [
       "[<matplotlib.lines.Line2D at 0x7f7f375c2df0>]"
      ]
     },
     "execution_count": 55,
     "metadata": {},
     "output_type": "execute_result"
    },
    {
     "data": {
      "image/png": "[encoded data removed]",
      "text/plain": [
       "<Figure size 432x288 with 1 Axes>"
      ]
     },
     "metadata": {
      "needs_background": "light"
     },
     "output_type": "display_data"
    }
   ],
   "source": [
    "mesh.point_data = {'Concentration': combined_values}\n",
    "mesh.plot(notebook=True, cpos='xy', clim=[0,1], style='surface', jupyter_backend='static')\n",
    "plt.plot(combined_values[:])"
   ]
  }
 ],
 "metadata": {
  "accelerator": "GPU",
  "colab": {
   "collapsed_sections": [],
   "name": "Structured_Data_Multigrid_Chris_BY.ipynb",
   "provenance": []
  },
  "gpuClass": "standard",
  "kernelspec": {
   "display_name": "Python 3 (ipykernel)",
   "language": "python",
   "name": "python3"
  },
  "language_info": {
   "codemirror_mode": {
    "name": "ipython",
    "version": 3
   },
   "file_extension": ".py",
   "mimetype": "text/x-python",
   "name": "python",
   "nbconvert_exporter": "python",
   "pygments_lexer": "ipython3",
   "version": "3.8.10"
  }
 },
 "nbformat": 4,
 "nbformat_minor": 5
}
